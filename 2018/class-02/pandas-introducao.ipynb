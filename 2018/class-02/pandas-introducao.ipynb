{
 "cells": [
  {
   "cell_type": "markdown",
   "metadata": {},
   "source": [
    "# <span style=\"color:#336699\">CAP394 - Introduction to Data Science [<img src=\"./img/logo.png\" alt=\"CAP394 - Introduction to Data Science\" style=\"height: 35px;\" align=\"right\">](http://www.lac.inpe.br/~rafael.santos/cap394.html)</span>\n",
    "<hr style=\"border:2px solid #0077b9;\">\n",
    "\n",
    "# <span style=\"color:#336699\">Pandas</span>\n",
    "\n",
    "\n",
    "[<img src=\"https://pandas.pydata.org/_static/pandas_logo.png\" alt=\"Pandas\" style=\"height: 75px;\" align=\"right\">](https://pandas.pydata.org/)\n",
    "\n",
    "Professores:\n",
    "- Rafael Santos\n",
    "- Gilberto Ribeiro de Queiroz\n",
    "\n",
    "Colaboradores:\n",
    "- Rolf Simões\n",
    "- Vitor Gomes"
   ]
  },
  {
   "cell_type": "markdown",
   "metadata": {},
   "source": [
    "# Introdução\n",
    "<hr style=\"border:1px solid #0077b9;\">\n",
    "\n",
    "O Pandas fornece duas estruturas de dados básicas: `Series` e `DataFrame`. Para estas estruturas, existem diversas operações de alto nível disponíveis, tais como: agregação de valores e visualização básica através da matplotlib.\n",
    "\n",
    "Um objeto do tipo `Series` representa um vetor (ou array unidimensional) capaz de armazenar qualquer tipo de dado, como números inteiros, strings ou objetos como data e hora. Possui um eixo (*axis*) usado para rotular cada valor do vetor. Esses rótulos funcionam como um índice para os valores da série.\n",
    "\n",
    "<table>\n",
    "  <caption style=\"font-size: 20px;text-align: center\">Series</caption>\n",
    "  <tbody>\n",
    "    <tr>\n",
    "      <td style=\"font-weight: bold;text-align: center\"></td>\n",
    "      <td style=\"font-weight: bold;text-align: center\">municipio</td>    \n",
    "    </tr>\n",
    "    <tr>\n",
    "      <td style=\"text-align: center\">0</td>\n",
    "      <td style=\"text-align: left\">Sítio Novo Do Tocantins</td>\n",
    "    </tr>\n",
    "    <tr>\n",
    "      <td style=\"text-align: center\">1</td>\n",
    "      <td style=\"text-align: left\">Ouro Preto</td>\n",
    "    </tr>\n",
    "    <tr>\n",
    "      <td style=\"text-align: center\">2</td>\n",
    "      <td style=\"text-align: left\">Mariana</td>\n",
    "    </tr>\n",
    "    <tr>\n",
    "      <td style=\"text-align: center\">3</td>\n",
    "      <td style=\"text-align: left\">Araxá</td>\n",
    "    </tr>\n",
    "    <tr>\n",
    "      <td style=\"text-align: center\">4</td>\n",
    "      <td style=\"text-align: left\">Belo Horizonte</td>\n",
    "    </tr>\n",
    "  </tbody>\n",
    "</table>"
   ]
  },
  {
   "cell_type": "markdown",
   "metadata": {},
   "source": [
    "Um objeto do tipo `DataFrame` representa um tabela bidimensional com os eixos rotulados (linhas e colunas).\n",
    "\n",
    "<table>\n",
    "  <caption style=\"font-size: 20px;text-align: center\">DataFrame</caption>\n",
    "  <tbody>\n",
    "    <tr>\n",
    "      <td style=\"font-weight: bold;text-align: center\"></td>\n",
    "      <td style=\"font-weight: bold;text-align: center\">municipio</td>    \n",
    "      <td style=\"font-weight: bold;text-align: center\">estado</td>\n",
    "      <td style=\"font-weight: bold;text-align: center\">regiao</td>\n",
    "      <td style=\"font-weight: bold;text-align: center\">pais</td>\n",
    "      <td style=\"font-weight: bold;text-align: center\">satelite</td>\n",
    "      <td style=\"font-weight: bold;text-align: center\">bioma</td>\n",
    "      <td style=\"font-weight: bold;text-align: center\">timestamp</td>\n",
    "      <td style=\"font-weight: bold;text-align: center\">satelite_r</td>\n",
    "    </tr>\n",
    "    <tr>\n",
    "      <td style=\"text-align: center\">0</td>\n",
    "      <td style=\"text-align: center\">Sítio Novo Do Tocantins</td>\n",
    "      <td style=\"text-align: center\">Tocantins</td>\n",
    "      <td style=\"text-align: center\">N</td>\n",
    "      <td style=\"text-align: center\">Brazil</td>\n",
    "      <td style=\"text-align: center\">NPP_375</td>\n",
    "      <td style=\"text-align: center\">Cerrado</td>\n",
    "      <td style=\"text-align: center\">2016/02/12 17:05:45</td>\n",
    "      <td style=\"text-align: center\">f</td>\n",
    "    </tr>\n",
    "    <tr>\n",
    "      <td style=\"text-align: center\">1</td>\n",
    "      <td style=\"text-align: center\">Sítio Novo Do Tocantins</td>\n",
    "      <td style=\"text-align: center\">Tocantins</td>\n",
    "      <td style=\"text-align: center\">N</td>\n",
    "      <td style=\"text-align: center\">Brazil</td>\n",
    "      <td style=\"text-align: center\">NPP_375</td>\n",
    "      <td style=\"text-align: center\">Cerrado</td>\n",
    "      <td style=\"text-align: center\">2016/07/17 04:00:00</td>\n",
    "      <td style=\"text-align: center\">f</td>\n",
    "    </tr>\n",
    "    <tr>\n",
    "      <td style=\"text-align: center\">2</td>\n",
    "      <td style=\"text-align: center\">Sítio Novo Do Tocantins</td>\n",
    "      <td style=\"text-align: center\">Tocantins</td>\n",
    "      <td style=\"text-align: center\">N</td>\n",
    "      <td style=\"text-align: center\">Brazil</td>\n",
    "      <td style=\"text-align: center\">AQUA_M-T</td>\n",
    "      <td style=\"text-align: center\">Cerrado</td>\n",
    "      <td style=\"text-align: center\">2016/01/15 16:40:14</td>\n",
    "      <td style=\"text-align: center\">t</td>\n",
    "    </tr>\n",
    "    <tr>\n",
    "      <td style=\"text-align: center\">3</td>\n",
    "      <td style=\"text-align: center\">Sítio Novo Do Tocantins</td>\n",
    "      <td style=\"text-align: center\">Tocantins</td>\n",
    "      <td style=\"text-align: center\">N</td>\n",
    "      <td style=\"text-align: center\">Brazil</td>\n",
    "      <td style=\"text-align: center\">NPP_375</td>\n",
    "      <td style=\"text-align: center\">Cerrado</td>\n",
    "      <td style=\"text-align: center\">2016/07/17 04:00:00</td>\n",
    "      <td style=\"text-align: center\">f</td>\n",
    "    </tr>\n",
    "    <tr>\n",
    "      <td style=\"text-align: center\">4</td>\n",
    "      <td style=\"text-align: center\">Sítio Novo Do Tocantins</td>\n",
    "      <td style=\"text-align: center\">Tocantins</td>\n",
    "      <td style=\"text-align: center\">N</td>\n",
    "      <td style=\"text-align: center\">Brazil</td>\n",
    "      <td style=\"text-align: center\">NPP_375</td>\n",
    "      <td style=\"text-align: center\">Cerrado</td>\n",
    "      <td style=\"text-align: center\">2016/02/12 17:05:45</td>\n",
    "      <td style=\"text-align: center\">f</td>\n",
    "    </tr>\n",
    "  </tbody>\n",
    "</table>"
   ]
  },
  {
   "cell_type": "markdown",
   "metadata": {},
   "source": [
    "# 2. Usando Pandas\n",
    "<hr style=\"border:1px solid #0077b9;\">\n",
    "\n",
    "Por convenção importamos as funcionalidades do Pandas da seguinte forma:"
   ]
  },
  {
   "cell_type": "code",
   "execution_count": null,
   "metadata": {},
   "outputs": [],
   "source": [
    "import pandas as pd"
   ]
  },
  {
   "cell_type": "markdown",
   "metadata": {},
   "source": [
    "Para abrir um arquivo CSV basta utilizar a função `read_csv`:"
   ]
  },
  {
   "cell_type": "code",
   "execution_count": null,
   "metadata": {},
   "outputs": [],
   "source": [
    "patterns = pd.read_csv(\"dados/defpatterns.missing.csv\")"
   ]
  },
  {
   "cell_type": "markdown",
   "metadata": {},
   "source": [
    "Podemos apresentar as primeiras linhas do `DataFrame` através do método `head`:"
   ]
  },
  {
   "cell_type": "code",
   "execution_count": null,
   "metadata": {},
   "outputs": [],
   "source": [
    "patterns.head()"
   ]
  },
  {
   "cell_type": "code",
   "execution_count": null,
   "metadata": {},
   "outputs": [],
   "source": [
    "patterns.head(8)"
   ]
  },
  {
   "cell_type": "markdown",
   "metadata": {},
   "source": [
    "Podemos extrair uma coluna utilizando o operador `[]`:"
   ]
  },
  {
   "cell_type": "code",
   "execution_count": null,
   "metadata": {},
   "outputs": [],
   "source": [
    "patterns[\"padrao\"]"
   ]
  },
  {
   "cell_type": "markdown",
   "metadata": {},
   "source": [
    "Repare que o tipo de objeto retornado é uma série:"
   ]
  },
  {
   "cell_type": "code",
   "execution_count": null,
   "metadata": {},
   "outputs": [],
   "source": [
    "type(patterns[\"padrao\"])"
   ]
  },
  {
   "cell_type": "markdown",
   "metadata": {},
   "source": [
    "Se utilizarmos dois colchetes o objeto retornado continua sendo um `DataFrame`:"
   ]
  },
  {
   "cell_type": "code",
   "execution_count": null,
   "metadata": {},
   "outputs": [],
   "source": [
    "patterns[ [\"padrao\"] ]"
   ]
  },
  {
   "cell_type": "code",
   "execution_count": null,
   "metadata": {},
   "outputs": [],
   "source": [
    "type( patterns[ [\"padrao\"] ] )"
   ]
  },
  {
   "cell_type": "markdown",
   "metadata": {},
   "source": [
    "Para selecionar duas ou mais colunas podemos utilizar uma lista:"
   ]
  },
  {
   "cell_type": "code",
   "execution_count": null,
   "metadata": {},
   "outputs": [],
   "source": [
    "patterns[ [\"deci_class\", \"padrao\"] ]"
   ]
  },
  {
   "cell_type": "markdown",
   "metadata": {},
   "source": [
    "Podemos descobrir os tipos de dados das colunas do `DataFrame` através do atributo `dtypes`:"
   ]
  },
  {
   "cell_type": "code",
   "execution_count": null,
   "metadata": {},
   "outputs": [],
   "source": [
    "patterns.dtypes"
   ]
  },
  {
   "cell_type": "markdown",
   "metadata": {},
   "source": [
    "O Pandas organiza as colunas internamente como arrays NumPy. Podemos acessar esse array através da propriedade `values`:"
   ]
  },
  {
   "cell_type": "code",
   "execution_count": null,
   "metadata": {},
   "outputs": [],
   "source": [
    "patterns[\"padrao\"].values"
   ]
  },
  {
   "cell_type": "markdown",
   "metadata": {},
   "source": [
    "Para recuperar as primeiras 10 linhas do `DataFrame`:"
   ]
  },
  {
   "cell_type": "code",
   "execution_count": null,
   "metadata": {},
   "outputs": [],
   "source": [
    "patterns[:10]"
   ]
  },
  {
   "cell_type": "code",
   "execution_count": null,
   "metadata": {},
   "outputs": [],
   "source": [
    "patterns[:10][\"padrao\"]"
   ]
  },
  {
   "cell_type": "markdown",
   "metadata": {},
   "source": [
    "Podemos selecionar um subconjunto das colunas e linhas de um `DataFrame`:"
   ]
  },
  {
   "cell_type": "code",
   "execution_count": null,
   "metadata": {},
   "outputs": [],
   "source": [
    "patterns[ [\"deci_class\", \"padrao\"] ][:5]"
   ]
  },
  {
   "cell_type": "markdown",
   "metadata": {},
   "source": [
    "Para obter um resumo do `DataFrame`:"
   ]
  },
  {
   "cell_type": "code",
   "execution_count": null,
   "metadata": {},
   "outputs": [],
   "source": [
    "patterns.describe()"
   ]
  },
  {
   "cell_type": "markdown",
   "metadata": {},
   "source": [
    "**Q1.** Quantos valores diferentes existem para a coluna `padrao`?"
   ]
  },
  {
   "cell_type": "code",
   "execution_count": null,
   "metadata": {},
   "outputs": [],
   "source": [
    "patterns[\"padrao\"].nunique()"
   ]
  },
  {
   "cell_type": "markdown",
   "metadata": {},
   "source": [
    "Ou:"
   ]
  },
  {
   "cell_type": "code",
   "execution_count": null,
   "metadata": {},
   "outputs": [],
   "source": [
    "patterns[\"padrao\"].unique()"
   ]
  },
  {
   "cell_type": "code",
   "execution_count": null,
   "metadata": {},
   "outputs": [],
   "source": [
    "len( patterns[\"padrao\"].unique() )"
   ]
  },
  {
   "cell_type": "markdown",
   "metadata": {},
   "source": [
    "Podemos também criar grupos de linhas:"
   ]
  },
  {
   "cell_type": "code",
   "execution_count": null,
   "metadata": {},
   "outputs": [],
   "source": [
    "grupo_linhas = patterns.groupby(by=\"padrao\")"
   ]
  },
  {
   "cell_type": "code",
   "execution_count": null,
   "metadata": {},
   "outputs": [],
   "source": [
    "grupo_linhas[\"padrao\"].count()"
   ]
  },
  {
   "cell_type": "markdown",
   "metadata": {},
   "source": [
    "Para saber a contagem de cada grupo dentro de uma coluna podemos usar `value_counts`:"
   ]
  },
  {
   "cell_type": "code",
   "execution_count": null,
   "metadata": {},
   "outputs": [],
   "source": [
    "patterns[\"padrao\"].value_counts()"
   ]
  },
  {
   "cell_type": "markdown",
   "metadata": {},
   "source": [
    "**Q2.** Apresentar um gráfico de barras com a contagem de cada padrão:"
   ]
  },
  {
   "cell_type": "code",
   "execution_count": null,
   "metadata": {},
   "outputs": [],
   "source": [
    "import matplotlib.pyplot as plt\n",
    "\n",
    "contagem = grupo_linhas[\"padrao\"].count()\n",
    "\n",
    "contagem.plot(kind='bar');"
   ]
  },
  {
   "cell_type": "markdown",
   "metadata": {},
   "source": [
    "**Q3.** Qual é o valor mínimo para um dada coluna? Vamos tomar a coluna `c_PSMetric` como exemplo:"
   ]
  },
  {
   "cell_type": "code",
   "execution_count": null,
   "metadata": {},
   "outputs": [],
   "source": [
    "patterns[\"c_PSMetric\"].min()"
   ]
  },
  {
   "cell_type": "markdown",
   "metadata": {},
   "source": [
    "**Q4.** Qual o valor minímo para uma dada coluna desconsiderando o valor zero?"
   ]
  },
  {
   "cell_type": "code",
   "execution_count": null,
   "metadata": {},
   "outputs": [],
   "source": [
    "patterns[ patterns.c_PSMetric != 0 ][\"c_PSMetric\"].min()"
   ]
  },
  {
   "cell_type": "markdown",
   "metadata": {},
   "source": [
    "**Q5.** Quantos valores estão faltando em cada coluna?"
   ]
  },
  {
   "cell_type": "markdown",
   "metadata": {},
   "source": [
    "Os métodos `isnull()` e `notnull()` das estruturas de dados do Pandas possibilitam detectar a ocorrência de valores nulos. Essas duas operações retornam uma máscara booleana:"
   ]
  },
  {
   "cell_type": "code",
   "execution_count": null,
   "metadata": {},
   "outputs": [],
   "source": [
    "patterns.isnull()"
   ]
  },
  {
   "cell_type": "code",
   "execution_count": null,
   "metadata": {},
   "outputs": [],
   "source": [
    "patterns.isnull().sum()"
   ]
  },
  {
   "cell_type": "markdown",
   "metadata": {},
   "source": [
    "Outra forma de obter o número de linhas com `NaN` seria:"
   ]
  },
  {
   "cell_type": "code",
   "execution_count": null,
   "metadata": {},
   "outputs": [],
   "source": [
    "len(patterns) - patterns.count()"
   ]
  },
  {
   "cell_type": "markdown",
   "metadata": {},
   "source": [
    "Ou:"
   ]
  },
  {
   "cell_type": "code",
   "execution_count": null,
   "metadata": {},
   "outputs": [],
   "source": [
    "len(patterns.index) - patterns.count()"
   ]
  },
  {
   "cell_type": "markdown",
   "metadata": {},
   "source": [
    "**Q6.** Quais as linhas que possuem `NaN` na coluna `c_EDMetric`:"
   ]
  },
  {
   "cell_type": "code",
   "execution_count": null,
   "metadata": {},
   "outputs": [],
   "source": [
    "patterns[ patterns[\"c_EDMetric\"].isnull() ]"
   ]
  },
  {
   "cell_type": "markdown",
   "metadata": {},
   "source": [
    "**Q7.** Quantas observações estão completas, isto é, não estão faltando valores?"
   ]
  },
  {
   "cell_type": "code",
   "execution_count": null,
   "metadata": {},
   "outputs": [],
   "source": [
    "df = patterns.copy()"
   ]
  },
  {
   "cell_type": "code",
   "execution_count": null,
   "metadata": {},
   "outputs": [],
   "source": [
    "df.dropna(axis=1).columns"
   ]
  },
  {
   "cell_type": "markdown",
   "metadata": {},
   "source": [
    "**Q8.** Quantas observações completas existem para cada valor de “padrao”?"
   ]
  },
  {
   "cell_type": "code",
   "execution_count": null,
   "metadata": {},
   "outputs": [],
   "source": [
    "df = patterns.dropna(axis=0)\n",
    "df[\"padrao\"].value_counts()"
   ]
  },
  {
   "cell_type": "markdown",
   "metadata": {},
   "source": [
    "**Q9.** Adicionar uma nova coluna:"
   ]
  },
  {
   "cell_type": "code",
   "execution_count": null,
   "metadata": {},
   "outputs": [],
   "source": [
    "patterns[\"idx\"] = patterns[\"Lin\"] + patterns[\"Col\"]"
   ]
  },
  {
   "cell_type": "code",
   "execution_count": null,
   "metadata": {},
   "outputs": [],
   "source": [
    "patterns[:50][ [\"Col\", \"Lin\", \"idx\"] ]"
   ]
  },
  {
   "cell_type": "markdown",
   "metadata": {},
   "source": [
    "**Q10.** Copiar um `DataFrame`:"
   ]
  },
  {
   "cell_type": "code",
   "execution_count": null,
   "metadata": {},
   "outputs": [],
   "source": [
    "df = patterns.copy()"
   ]
  },
  {
   "cell_type": "markdown",
   "metadata": {},
   "source": [
    "# Referências Online\n",
    "<hr style=\"border:1px solid #0077b9;\">\n",
    "\n",
    "* [Pandas API Reference](https://pandas.pydata.org/pandas-docs/stable/api.html#dataframe)"
   ]
  }
 ],
 "metadata": {
  "kernelspec": {
   "display_name": "Python [geospatial]",
   "language": "python",
   "name": "geospatial"
  },
  "language_info": {
   "codemirror_mode": {
    "name": "ipython",
    "version": 3
   },
   "file_extension": ".py",
   "mimetype": "text/x-python",
   "name": "python",
   "nbconvert_exporter": "python",
   "pygments_lexer": "ipython3",
   "version": "3.6.4"
  },
  "toc": {
   "base_numbering": 1,
   "nav_menu": {},
   "number_sections": false,
   "sideBar": true,
   "skip_h1_title": false,
   "title_cell": "Table of Contents",
   "title_sidebar": "Contents",
   "toc_cell": false,
   "toc_position": {},
   "toc_section_display": true,
   "toc_window_display": false
  }
 },
 "nbformat": 4,
 "nbformat_minor": 2
}
