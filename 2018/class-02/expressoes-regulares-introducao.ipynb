{
 "cells": [
  {
   "cell_type": "markdown",
   "metadata": {
    "slideshow": {
     "slide_type": "slide"
    }
   },
   "source": [
    "# <span style=\"color:#336699\">CAP394 - Introduction to Data Science [<img src=\"./img/logo.png\" alt=\"CAP394 - Introduction to Data Science\" style=\"height: 35px;\" align=\"right\">](http://www.lac.inpe.br/~rafael.santos/cap394.html)</span>\n",
    "<hr style=\"border:2px solid #0077b9;\">\n",
    "\n",
    "# <span style=\"color:#336699\">Expressões Regulares</span>\n",
    "\n",
    "\n",
    "[<img src=\"https://upload.wikimedia.org/wikipedia/commons/1/1c/Kleene.jpg\" alt=\"Stephen Cole Kleene\" style=\"height: 175px;\" align=\"right\">](https://en.wikipedia.org/wiki/Regular_expression)\n",
    "\n",
    "Professores:\n",
    "- Rafael Santos\n",
    "- Gilberto Ribeiro de Queiroz\n",
    "\n",
    "Colaboradores:\n",
    "- Rolf Simões\n",
    "- Vitor Gomes"
   ]
  },
  {
   "cell_type": "markdown",
   "metadata": {
    "slideshow": {
     "slide_type": "slide"
    }
   },
   "source": [
    "# Introdução\n",
    "<hr style=\"border:1px solid #0077b9;\">\n",
    "\n",
    "Uma expressão regular (regex) provê uma forma concisa e flexível de identificar cadeias de caracteres de interesse, como caracteres particulares, palavras ou padrões de caracteres. O termo deriva do trabalho do matemático norte-americano Stephen Cole Kleene (foto). Expressões regulares são escritas numa linguagem formal que pode ser interpretada por um processador de expressão.\n",
    "\n",
    "Fontes: https://docs.python.org/3.7/library/re.html, http://wiki.portugal-a-programar.pt/dev_geral:python:regex, https://en.wikipedia.org/wiki/Regular_expression\n",
    "\n",
    "Para Python está disponível o módulo `re` para o processamento de expressões regulares. Esse módulo é importado da seguinte forma:"
   ]
  },
  {
   "cell_type": "code",
   "execution_count": 3,
   "metadata": {
    "slideshow": {
     "slide_type": "fragment"
    }
   },
   "outputs": [],
   "source": [
    "import re"
   ]
  },
  {
   "cell_type": "markdown",
   "metadata": {
    "slideshow": {
     "slide_type": "slide"
    }
   },
   "source": [
    "# 2. Busca simples por uma string\n",
    "<hr style=\"border:1px solid #0077b9;\">\n",
    "\n",
    "O método **re.search** verifica se uma string (ou padrão) existe em outra string.O uso básico é feito da seguinte forma:"
   ]
  },
  {
   "cell_type": "code",
   "execution_count": 11,
   "metadata": {
    "slideshow": {
     "slide_type": "fragment"
    }
   },
   "outputs": [
    {
     "name": "stdout",
     "output_type": "stream",
     "text": [
      "Achou !\n",
      "Objeto:  <_sre.SRE_Match object; span=(16, 20), match='Data'>\n"
     ]
    }
   ],
   "source": [
    "texto = 'Introduction to Data Science'\n",
    "match = re.search('Data', texto)\n",
    "if match:\n",
    "    print('Achou !')\n",
    "else:\n",
    "    print('Não Achou !')\n",
    "\n",
    "print(\"Objeto: \", ocorrencia)"
   ]
  },
  {
   "cell_type": "markdown",
   "metadata": {
    "slideshow": {
     "slide_type": "subslide"
    }
   },
   "source": [
    "O **MatchObject** possui métodos para acessar informações sobre a ocorrência encontrada:"
   ]
  },
  {
   "cell_type": "code",
   "execution_count": 24,
   "metadata": {
    "slideshow": {
     "slide_type": "fragment"
    }
   },
   "outputs": [
    {
     "name": "stdout",
     "output_type": "stream",
     "text": [
      "Achou: 'Introduction to Data Science', 're.compile('Data')', 16-20\n"
     ]
    }
   ],
   "source": [
    "texto = 'Introduction to Data Science'\n",
    "match = re.search('Data', texto)\n",
    "if match:\n",
    "    print(\"Achou: '{}', '{}', {}-{}\".format(match.string, match.re, match.start(), match.end()))"
   ]
  },
  {
   "cell_type": "markdown",
   "metadata": {
    "slideshow": {
     "slide_type": "subslide"
    }
   },
   "source": [
    "Recomenda-se o uso do **compile** quando o padrão for usado várias vezes:"
   ]
  },
  {
   "cell_type": "code",
   "execution_count": 27,
   "metadata": {
    "slideshow": {
     "slide_type": "fragment"
    }
   },
   "outputs": [
    {
     "name": "stdout",
     "output_type": "stream",
     "text": [
      "Achei: Data\n"
     ]
    }
   ],
   "source": [
    "palavras = [\"Introduction\", \"to\", \"Data\", \"Science\"]\n",
    "padrao = re.compile('Data')\n",
    "\n",
    "for palavra in palavras:\n",
    "    match = re.search(padrao, palavra)\n",
    "    if match:\n",
    "        print(\"Achei: {}\".format(palavra))"
   ]
  },
  {
   "cell_type": "markdown",
   "metadata": {
    "slideshow": {
     "slide_type": "slide"
    }
   },
   "source": [
    "# 2.1. Exemplo de busca em um arquivo CSV\n",
    "<hr style=\"border:1px solid #0077b9;\">"
   ]
  },
  {
   "cell_type": "markdown",
   "metadata": {
    "slideshow": {
     "slide_type": "fragment"
    }
   },
   "source": [
    "Lendo o arquivo de padrões:"
   ]
  },
  {
   "cell_type": "code",
   "execution_count": 29,
   "metadata": {
    "slideshow": {
     "slide_type": "fragment"
    }
   },
   "outputs": [],
   "source": [
    "import csv\n",
    "records = []\n",
    "with open('dados/defpatterns.missing.csv','r') as fcsv:\n",
    "    csvreader = csv.DictReader(fcsv)\n",
    "\n",
    "    for row in csvreader:\n",
    "        records.append(row)"
   ]
  },
  {
   "cell_type": "markdown",
   "metadata": {
    "slideshow": {
     "slide_type": "fragment"
    }
   },
   "source": [
    "Procurando pela palavra 'floresta' na coluna 'padrao':"
   ]
  },
  {
   "cell_type": "code",
   "execution_count": 31,
   "metadata": {
    "slideshow": {
     "slide_type": "fragment"
    }
   },
   "outputs": [
    {
     "name": "stdout",
     "output_type": "stream",
     "text": [
      "Encontrei 993 registros de floresta\n"
     ]
    }
   ],
   "source": [
    "padrao = re.compile('floresta')\n",
    "floresta = []\n",
    "for record in records:\n",
    "    if re.search(padrao, record['padrao']):\n",
    "        floresta.append(record)\n",
    "print(\"Encontrei {} registros de floresta\".format(len(floresta)))"
   ]
  },
  {
   "cell_type": "markdown",
   "metadata": {
    "slideshow": {
     "slide_type": "slide"
    }
   },
   "source": [
    "# 2.2. Uso de operadores especiais na busca por caracteres\n",
    "<hr style=\"border:1px solid #0077b9;\">"
   ]
  },
  {
   "cell_type": "markdown",
   "metadata": {
    "slideshow": {
     "slide_type": "fragment"
    }
   },
   "source": [
    "Os **[ ]** servem para indicar alternativas. Por exemplo [ae] procura por **a** ou **e**:"
   ]
  },
  {
   "cell_type": "code",
   "execution_count": 40,
   "metadata": {
    "slideshow": {
     "slide_type": "fragment"
    }
   },
   "outputs": [
    {
     "name": "stdout",
     "output_type": "stream",
     "text": [
      "Data\n",
      "Science\n"
     ]
    }
   ],
   "source": [
    "pattern = re.compile(\"[ae]\")\n",
    "palavras = [\"Introduction\", \"Data\", \"Science\"]\n",
    "\n",
    "for palavra in palavras:\n",
    "    match = re.search(pattern, palavra)\n",
    "    if match:\n",
    "        print(palavra)\n",
    "    "
   ]
  },
  {
   "cell_type": "markdown",
   "metadata": {
    "slideshow": {
     "slide_type": "subslide"
    }
   },
   "source": [
    "**Como saber qual letra foi encontrada em cada ocorrência?**"
   ]
  },
  {
   "cell_type": "markdown",
   "metadata": {
    "slideshow": {
     "slide_type": "fragment"
    }
   },
   "source": [
    "É possível usar **( )** para definir **groups** de busca:"
   ]
  },
  {
   "cell_type": "code",
   "execution_count": 42,
   "metadata": {
    "slideshow": {
     "slide_type": "fragment"
    }
   },
   "outputs": [
    {
     "name": "stdout",
     "output_type": "stream",
     "text": [
      "Data: 1-2, ('a',)\n",
      "Science: 3-4, ('e',)\n"
     ]
    }
   ],
   "source": [
    "pattern = re.compile(\"([ae])\")\n",
    "palavras = [\"Introduction\", \"Data\", \"Science\"]\n",
    "\n",
    "for palavra in palavras:\n",
    "    match = re.search(pattern, palavra)\n",
    "    if match:\n",
    "        print(\"{}: {}-{}, {}\".format(palavra, match.start(), match.end(), match.groups()))"
   ]
  },
  {
   "cell_type": "markdown",
   "metadata": {
    "slideshow": {
     "slide_type": "subslide"
    }
   },
   "source": [
    "Mas o **search** somente mostra a primeira ocorrência. Para encontrar todas, é possível usar o **re.findall()**:"
   ]
  },
  {
   "cell_type": "code",
   "execution_count": 48,
   "metadata": {
    "slideshow": {
     "slide_type": "fragment"
    }
   },
   "outputs": [
    {
     "name": "stdout",
     "output_type": "stream",
     "text": [
      "Introduction ['t', 't']\n",
      "Data ['a', 't', 'a']\n",
      "Science ['e', 'e']\n"
     ]
    }
   ],
   "source": [
    "pattern = re.compile(\"([aet])\")\n",
    "palavras = [\"Introduction\", \"Data\", \"Science\"]\n",
    "\n",
    "for palavra in palavras:\n",
    "    ocorrencias = re.findall(pattern, palavra)\n",
    "    if len(ocorrencias):\n",
    "        print(palavra, ocorrencias)"
   ]
  },
  {
   "cell_type": "markdown",
   "metadata": {
    "slideshow": {
     "slide_type": "subslide"
    }
   },
   "source": [
    "O **re.findall()** retorna um `list` com as ocorrências. Para obter todas as ocorrências através de objetos **MatchObject**, use **re.finditer**."
   ]
  },
  {
   "cell_type": "code",
   "execution_count": 54,
   "metadata": {
    "slideshow": {
     "slide_type": "fragment"
    }
   },
   "outputs": [
    {
     "name": "stdout",
     "output_type": "stream",
     "text": [
      "Introduction: t, 2-3\n",
      "Introduction: t, 8-9\n",
      "Data: a, 1-2\n",
      "Data: t, 2-3\n",
      "Data: a, 3-4\n",
      "Science: e, 3-4\n",
      "Science: e, 6-7\n"
     ]
    }
   ],
   "source": [
    "pattern = re.compile(\"([aet])\")\n",
    "palavras = [\"Introduction\", \"Data\", \"Science\"]\n",
    "\n",
    "for palavra in palavras:\n",
    "    ocorrencias = re.finditer(pattern, palavra)\n",
    "    for ocorrencia in ocorrencias:\n",
    "        print(\"{}: {}, {}-{}\".format(palavra, ocorrencia.group(), ocorrencia.start(), ocorrencia.end()))"
   ]
  },
  {
   "cell_type": "markdown",
   "metadata": {
    "slideshow": {
     "slide_type": "subslide"
    }
   },
   "source": [
    "**Para buscar uma faixa de caracteres**:"
   ]
  },
  {
   "cell_type": "code",
   "execution_count": 72,
   "metadata": {
    "slideshow": {
     "slide_type": "fragment"
    }
   },
   "outputs": [
    {
     "name": "stdout",
     "output_type": "stream",
     "text": [
      "Introduction: d, 5-6\n",
      "Introduction: c, 7-8\n",
      "Data: a, 1-2\n",
      "Data: a, 3-4\n",
      "Science: c, 1-2\n",
      "Science: c, 5-6\n"
     ]
    }
   ],
   "source": [
    "pattern = re.compile(\"([a-d])\")\n",
    "palavras = [\"Introduction\", \"Data\", \"Science\"]\n",
    "\n",
    "for palavra in palavras:\n",
    "    ocorrencias = re.finditer(pattern, palavra)\n",
    "    for ocorrencia in ocorrencias:\n",
    "        print(\"{}: {}, {}-{}\".format(palavra, ocorrencia.group(), ocorrencia.start(), ocorrencia.end()))"
   ]
  },
  {
   "cell_type": "markdown",
   "metadata": {
    "slideshow": {
     "slide_type": "subslide"
    }
   },
   "source": [
    "**E se eu quiser encontrar uma sequência de caracteres específica?**"
   ]
  },
  {
   "cell_type": "code",
   "execution_count": 73,
   "metadata": {
    "slideshow": {
     "slide_type": "fragment"
    }
   },
   "outputs": [
    {
     "name": "stdout",
     "output_type": "stream",
     "text": [
      "Introduction: ct, 7-9\n",
      "Science: ci, 1-3\n"
     ]
    }
   ],
   "source": [
    "pattern = re.compile(\"(c[it])\") # um c seguido por um i ou um t\n",
    "palavras = [\"Introduction\", \"Data\", \"Science\"]\n",
    "\n",
    "for palavra in palavras:\n",
    "    ocorrencias = re.finditer(pattern, palavra)\n",
    "    for ocorrencia in ocorrencias:\n",
    "        print(\"{}: {}, {}-{}\".format(palavra, ocorrencia.group(), ocorrencia.start(), ocorrencia.end()))"
   ]
  },
  {
   "cell_type": "markdown",
   "metadata": {
    "slideshow": {
     "slide_type": "subslide"
    }
   },
   "source": [
    "**E para buscar sequência qualquer de 3 caracteres iniciadas por c?**"
   ]
  },
  {
   "cell_type": "code",
   "execution_count": 76,
   "metadata": {
    "slideshow": {
     "slide_type": "fragment"
    }
   },
   "outputs": [
    {
     "name": "stdout",
     "output_type": "stream",
     "text": [
      "Introduction: cti, 7-10\n",
      "Science: cie, 1-4\n"
     ]
    }
   ],
   "source": [
    "pattern = re.compile(\"(c[a-z]{2})\") # um c seguido por duas letras entre a e z\n",
    "palavras = [\"Introduction\", \"Data\", \"Science\"]\n",
    "\n",
    "for palavra in palavras:\n",
    "    ocorrencias = re.finditer(pattern, palavra)\n",
    "    for ocorrencia in ocorrencias:\n",
    "        print(\"{}: {}, {}-{}\".format(palavra, ocorrencia.group(), ocorrencia.start(), ocorrencia.end()))"
   ]
  },
  {
   "cell_type": "markdown",
   "metadata": {
    "slideshow": {
     "slide_type": "subslide"
    }
   },
   "source": [
    "**Para buscar uma sequencia inicia em c e não sequida por um i?**"
   ]
  },
  {
   "cell_type": "code",
   "execution_count": 77,
   "metadata": {
    "slideshow": {
     "slide_type": "fragment"
    }
   },
   "outputs": [
    {
     "name": "stdout",
     "output_type": "stream",
     "text": [
      "Introduction: ct, 7-9\n",
      "Science: ce, 5-7\n"
     ]
    }
   ],
   "source": [
    "pattern = re.compile(\"(c[^i])\") # um c não seguido por um i\n",
    "palavras = [\"Introduction\", \"Data\", \"Science\"]\n",
    "\n",
    "for palavra in palavras:\n",
    "    ocorrencias = re.finditer(pattern, palavra)\n",
    "    for ocorrencia in ocorrencias:\n",
    "        print(\"{}: {}, {}-{}\".format(palavra, ocorrencia.group(), ocorrencia.start(), ocorrencia.end()))"
   ]
  },
  {
   "cell_type": "markdown",
   "metadata": {
    "slideshow": {
     "slide_type": "subslide"
    }
   },
   "source": [
    "Existem alguns atalhos para facilitar a busca por tipos de caracteres ou sequências específicas:\n",
    "- **\\d**: um dígito. Equivale a [0-9]\n",
    "- **\\D**: um não dígito. Equivale a [^0-9]\n",
    "- **\\s**: um espaço. Equivale a [ \\t\\n\\r\\f\\v]\n",
    "- **\\S**: um não espaço. Equivale a [^ \\t\\n\\r\\f\\v]\n",
    "- **\\w**: um caracter. Equivale a [a-zA-Z0-9_]\n",
    "- **\\W**: um não caracter. Equivale a [^a-zA-Z0-9_]\n",
    "- **^**: começo de linha\n",
    "- **$**: final de linha\n",
    "- **{[x],y}**: indica o número mínimo (x) e/ou máximo de caracteres. O mínimo é opcional\n",
    "- **+**: um ou mais caracteres\n",
    "- **\\***: nenhum ou muitos caracteres\n",
    "- **?**: opcional\n",
    "- **.**: qualquer caracter\n",
    "- **|**: ou"
   ]
  },
  {
   "cell_type": "markdown",
   "metadata": {
    "slideshow": {
     "slide_type": "subslide"
    }
   },
   "source": [
    "Alguns exemplos usando esses atalhos:"
   ]
  },
  {
   "cell_type": "code",
   "execution_count": 3,
   "metadata": {
    "slideshow": {
     "slide_type": "fragment"
    }
   },
   "outputs": [
    {
     "data": {
      "text/plain": [
       "['Introduction to Data Science',\n",
       " 'CAP 394',\n",
       " 'CAP 394 - Data Science',\n",
       " 'Introduction to Data Mining',\n",
       " 'Introduction to Data ']"
      ]
     },
     "metadata": {},
     "output_type": "display_data"
    }
   ],
   "source": [
    "textos = [\"Introduction to Data Science\", \"CAP 394\",\"CAP 394 - Data Science\",  \"Introduction to Data Mining\", \"Introduction to Data \" ]\n",
    "display(textos)"
   ]
  },
  {
   "cell_type": "markdown",
   "metadata": {
    "slideshow": {
     "slide_type": "fragment"
    }
   },
   "source": [
    "Procurar por sequencias do tipo: \"**Data ALGO**\""
   ]
  },
  {
   "cell_type": "code",
   "execution_count": 5,
   "metadata": {
    "slideshow": {
     "slide_type": "fragment"
    }
   },
   "outputs": [
    {
     "ename": "NameError",
     "evalue": "name 're' is not defined",
     "output_type": "error",
     "traceback": [
      "\u001b[0;31m---------------------------------------------------------------------------\u001b[0m",
      "\u001b[0;31mNameError\u001b[0m                                 Traceback (most recent call last)",
      "\u001b[0;32m<ipython-input-5-fffd062ccdbb>\u001b[0m in \u001b[0;36m<module>\u001b[0;34m()\u001b[0m\n\u001b[0;32m----> 1\u001b[0;31m \u001b[0mpattern\u001b[0m \u001b[0;34m=\u001b[0m \u001b[0mre\u001b[0m\u001b[0;34m.\u001b[0m\u001b[0mcompile\u001b[0m\u001b[0;34m(\u001b[0m\u001b[0;34m\"(Data[\\s][\\w]*)\"\u001b[0m\u001b[0;34m)\u001b[0m  \u001b[0;31m# ver diferenca com *\u001b[0m\u001b[0;34m\u001b[0m\u001b[0m\n\u001b[0m\u001b[1;32m      2\u001b[0m \u001b[0;34m\u001b[0m\u001b[0m\n\u001b[1;32m      3\u001b[0m \u001b[0;32mfor\u001b[0m \u001b[0mtexto\u001b[0m \u001b[0;32min\u001b[0m \u001b[0mtextos\u001b[0m\u001b[0;34m:\u001b[0m\u001b[0;34m\u001b[0m\u001b[0m\n\u001b[1;32m      4\u001b[0m     \u001b[0mocorrencias\u001b[0m \u001b[0;34m=\u001b[0m \u001b[0mre\u001b[0m\u001b[0;34m.\u001b[0m\u001b[0mfinditer\u001b[0m\u001b[0;34m(\u001b[0m\u001b[0mpattern\u001b[0m\u001b[0;34m,\u001b[0m \u001b[0mtexto\u001b[0m\u001b[0;34m)\u001b[0m\u001b[0;34m\u001b[0m\u001b[0m\n\u001b[1;32m      5\u001b[0m     \u001b[0;32mfor\u001b[0m \u001b[0mocorrencia\u001b[0m \u001b[0;32min\u001b[0m \u001b[0mocorrencias\u001b[0m\u001b[0;34m:\u001b[0m\u001b[0;34m\u001b[0m\u001b[0m\n",
      "\u001b[0;31mNameError\u001b[0m: name 're' is not defined"
     ]
    }
   ],
   "source": [
    "pattern = re.compile(\"(Data[\\s][\\w]*)\")  # ver diferenca com *\n",
    "\n",
    "for texto in textos:\n",
    "    ocorrencias = re.finditer(pattern, texto)\n",
    "    for ocorrencia in ocorrencias:\n",
    "        print(texto)\n",
    "        print(\"\\t{}, {}-{}\".format(ocorrencia.group(), ocorrencia.start(), ocorrencia.end()))"
   ]
  },
  {
   "cell_type": "markdown",
   "metadata": {
    "slideshow": {
     "slide_type": "subslide"
    }
   },
   "source": [
    "Procurar grupos que possuam números:"
   ]
  },
  {
   "cell_type": "code",
   "execution_count": 117,
   "metadata": {
    "slideshow": {
     "slide_type": "fragment"
    }
   },
   "outputs": [
    {
     "name": "stdout",
     "output_type": "stream",
     "text": [
      "CAP 394\n",
      "\t394, 4-7\n",
      "CAP 394 - Data Science\n",
      "\t394, 4-7\n"
     ]
    }
   ],
   "source": [
    "pattern = re.compile(\"([\\d]+)\")  # ver diferenca com *\n",
    "\n",
    "for texto in textos:\n",
    "    ocorrencias = re.finditer(pattern, texto)\n",
    "    for ocorrencia in ocorrencias:\n",
    "        print(texto)\n",
    "        print(\"\\t{}, {}-{}\".format(ocorrencia.group(), ocorrencia.start(), ocorrencia.end()))"
   ]
  },
  {
   "cell_type": "markdown",
   "metadata": {
    "slideshow": {
     "slide_type": "subslide"
    }
   },
   "source": [
    "Comecem com **Intro**:"
   ]
  },
  {
   "cell_type": "code",
   "execution_count": 120,
   "metadata": {
    "slideshow": {
     "slide_type": "fragment"
    }
   },
   "outputs": [
    {
     "name": "stdout",
     "output_type": "stream",
     "text": [
      "Introduction to Data Science\n",
      "\tIntro, 0-5\n",
      "Introduction to Data Mining\n",
      "\tIntro, 0-5\n",
      "Introduction to Data \n",
      "\tIntro, 0-5\n"
     ]
    }
   ],
   "source": [
    "pattern = re.compile(\"^(Intro)\")  # ver diferenca com *\n",
    "\n",
    "for texto in textos:\n",
    "    ocorrencias = re.finditer(pattern, texto)\n",
    "    for ocorrencia in ocorrencias:\n",
    "        print(texto)\n",
    "        print(\"\\t{}, {}-{}\".format(ocorrencia.group(), ocorrencia.start(), ocorrencia.end()))"
   ]
  },
  {
   "cell_type": "markdown",
   "metadata": {
    "slideshow": {
     "slide_type": "subslide"
    }
   },
   "source": [
    "Quebrar uma frase em palavras:"
   ]
  },
  {
   "cell_type": "code",
   "execution_count": 178,
   "metadata": {
    "slideshow": {
     "slide_type": "fragment"
    }
   },
   "outputs": [
    {
     "name": "stdout",
     "output_type": "stream",
     "text": [
      "Introduction to Data \n",
      "\tIntroduction , 0-13\n",
      "Introduction to Data \n",
      "\tto , 13-16\n",
      "Introduction to Data \n",
      "\tData , 16-21\n",
      "Introduction to Data \n",
      "\tScience, 21-28\n"
     ]
    }
   ],
   "source": [
    "pattern = re.compile(\"([\\w]+\\s)|([\\w]+$)\")\n",
    "ocorrencias = re.finditer(pattern, 'Introduction to Data Science')\n",
    "for ocorrencia in ocorrencias:\n",
    "    print(texto)\n",
    "    print(\"\\t{}, {}-{}\".format(ocorrencia.group(), ocorrencia.start(), ocorrencia.end()))"
   ]
  },
  {
   "cell_type": "markdown",
   "metadata": {
    "slideshow": {
     "slide_type": "slide"
    }
   },
   "source": [
    "# Regex online\n",
    "<hr style=\"border:1px solid #0077b9;\">\n",
    "Este [site](https://regex101.com/) permite testar expressões regulares com visualização."
   ]
  }
 ],
 "metadata": {
  "celltoolbar": "Slideshow",
  "kernelspec": {
   "display_name": "Python [geospatial]",
   "language": "python",
   "name": "geospatial"
  },
  "language_info": {
   "codemirror_mode": {
    "name": "ipython",
    "version": 3
   },
   "file_extension": ".py",
   "mimetype": "text/x-python",
   "name": "python",
   "nbconvert_exporter": "python",
   "pygments_lexer": "ipython3",
   "version": "3.6.4"
  }
 },
 "nbformat": 4,
 "nbformat_minor": 2
}
