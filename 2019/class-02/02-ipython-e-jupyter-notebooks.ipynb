{
 "cells": [
  {
   "cell_type": "markdown",
   "metadata": {},
   "source": [
    "# <span style=\"color:#336699\">CAP394 - Introdução à Data Science [<img src=\"./img/logo.png\" alt=\"CAP394 - Introduction to Data Science\" style=\"height: 35px;\" align=\"right\">](http://www.lac.inpe.br/~rafael.santos/cap394.html)</span>\n",
    "<hr style=\"border:2px solid #0077b9;\">\n",
    "\n",
    "# <span style=\"color:#336699\">IPython e Jupyter Notebooks</span>\n",
    "\n",
    "[<img src=\"http://jupyter.org/assets/nav_logo.svg\" alt=\"Project Jupyter\" style=\"height: 75px;\" align=\"right\">](http://jupyter.org)\n",
    "\n",
    "Professores:\n",
    "- Rafael Santos\n",
    "- Gilberto Ribeiro de Queiroz\n",
    "\n",
    "Colaborador:\n",
    "- Vitor Gomes"
   ]
  },
  {
   "cell_type": "markdown",
   "metadata": {},
   "source": [
    "# 1. Introdução\n",
    "<hr style=\"border:1px solid #0077b9;\">\n",
    "\n",
    "O [IPython](https://ipython.org/) é um ambiente projetado para [Computação Interativa](https://en.wikipedia.org/wiki/Interactive_computing). Originalmente foi criado para a linguagem Python, mas atualmente suporta diversas outras linguagens de programação, notoriamente, [R](https://github.com/IRkernel/IRkernel) e [Julia](https://github.com/JuliaLang/IJulia.jl).\n",
    "\n",
    "Basicamente, o IPython fornece um terminal interativo com capacidade de destacar símbolos da linguagem Python, possui recursos avançados de auto-completar (*tab completion*) que inclui introspecção do objeto em questão para determinar atributos e métodos, manutenção do histórico de comandos, capacidade de execução de comandos do sistema operacional integrados com a linguagem, além de forte suporte para visualização interativa e computação distribuída e paralela.\n",
    "\n",
    "Junto com a tecnologia conhecida como [Jupyter Notebooks](http://jupyter-notebook-beginner-guide.readthedocs.io/en/latest/what_is_jupyter.html), oferece uma forma poderosa de construir documentos envolvendo texto livre, textos formatados em Markdown, com uso de HTML e expressões matemáticas em LaTeX, elementos gráficos resultantes de plotagem de figuras dentro da própria página (*inline*), além de diversos outros tipos de mídias.\n",
    "\n",
    "Essa parte do curso tem como objetivo apresentar em detalhes a tecnologia conhecida como IPython e Jupyter Notebooks, em especial, como utilizar essa tecnologia para criação de documentos científicos que possa, ser facilmente reproduzidos e modificados. Para isso, é pressuposto que o aluno já possua o ambiente do Anaconda devidamente instalado em seu sistema."
   ]
  },
  {
   "cell_type": "markdown",
   "metadata": {},
   "source": [
    "# 2. IPython\n",
    "<hr style=\"border:1px solid #0077b9;\">\n",
    "\n",
    "A `Figura 1` abaixo apresenta a interface gráfica do terminal interativo padrão do Python. Este terminal possui recursos elementares de auto-completar. Através da tecla `TAB` podemos completar o nome de um objeto ou obter uma listagem dos métodos do objeto em questão. Na `Figura 1`, após o operador de membro (`.`) da lista numérica `seq_fibonacci`, usamos a tecla `TAB` para apresentar na tela a lista de métodos associados a esse objeto. Note que nem os valores literais numéricos, nem a função `print`, são destacados com alguma cor específica.<br><br>\n",
    "\n",
    "<figure>\n",
    "    <img src=\"./img/terminal-interativo-01.png\" alt=\"Terminal Interativo Python\" width=\"640\">\n",
    "    <figcaption style=\"text-align: center\"><b>Figura 1</b> - Terminal Interativo Python.</figcaption>\n",
    "</figure>\n",
    "\n",
    "Na `Figura 2` podemos observar o terminal interativo do IPython. Nele podemos observar que as constantes literais numéricas, assim como a função `print`, são devidamente realçadas. Além disso, as opções de métodos apresentadas para o objeto `seq_fibonacci`, pelo recurso de auto-completar (tecla `TAB`), podem ser selecionados através das teclas de direção (setas) ou pelo clique do mouse sobre a opção desejada.<br><br>\n",
    "\n",
    "<figure>\n",
    "    <img src=\"./img/ipython-01.png\" alt=\"Terminal Interativo IPython\" width=\"640\">\n",
    "    <figcaption style=\"text-align: center\"><b>Figura 2</b> - Terminal Interativo IPython.</figcaption>\n",
    "</figure>\n",
    "\n",
    "O recurso de auto-completar do IPython pode inclusive ser utilizado com expressões mais complexas, como a mostrada na `Figura 3`, onde o elemento `0` da lista é usado para se determinar os métodos disponíveis para o objeto resultante da expressão `L[0]`.<br><br>\n",
    "\n",
    "<figure>\n",
    "    <img src=\"./img/ipython-09.png\" alt=\"Terminal Interativo IPython\" width=\"640\">\n",
    "    <figcaption style=\"text-align: center\"><b>Figura 3</b> - Recursos de auto-completar do IPython.</figcaption>\n",
    "</figure>\n",
    "\n",
    "\n",
    "A `Tabela 1` apresenta alguns comandos úteis que podem ser usados no terminal do IPython:\n",
    "<table style=\"border: 1px solid black;\">\n",
    "    <caption style=\"margin: 0;\">Tabela 1 - Comandos úteis Ipython.</caption>\n",
    "    <tbody>\n",
    "        <tr>\n",
    "            <th style=\"text-align: center; border: 1px solid black\">Comando</th>\n",
    "            <th style=\"text-align: center; border: 1px solid black\">Descrição</th>\n",
    "        </tr>\n",
    "        <tr>\n",
    "            <td style=\"text-align: left; border: 1px solid black\">`?`</td>\n",
    "            <td style=\"text-align: left; border: 1px solid black\">apresenta informações sobre os recursos do IPython (`Figura 4`).</td>\n",
    "        </tr>\n",
    "        <tr>\n",
    "            <td style=\"text-align: left; border: 1px solid black\">`%quickref`</td>\n",
    "            <td style=\"text-align: left; border: 1px solid black\">apresenta uma janela com referência rápidas para os comandos do IPython (`Figura 5`).</td>\n",
    "        </tr>\n",
    "        <tr>\n",
    "            <td style=\"text-align: left; border: 1px solid black\">`help()`</td>\n",
    "            <td style=\"text-align: left; border: 1px solid black\">acessa o sistema de ajuda do próprio Python (`Figura 6`).</td>\n",
    "        </tr>\n",
    "        <tr>\n",
    "            <td style=\"text-align: left; border: 1px solid black\">`objeto?`</td>\n",
    "            <td style=\"text-align: left; border: 1px solid black\">apresenta os detalhes sobre o ‘objeto’ (`Figuras 7 e 8`). Use `??` para mais detalhes sobre o `objeto` (`Figura 9`).</td>\n",
    "        </tr>\n",
    "    </tbody>\n",
    "</table>\n",
    "\n",
    "<br>\n",
    "<figure>  \n",
    "    <img src=\"./img/ipython-02.png\" alt=\"Terminal Interativo IPython\" width=\"640\">\n",
    "    <figcaption style=\"text-align: center\"><b>Figura 4</b> - Informações gerais sobre o IPython.</figcaption>\n",
    "</figure>\n",
    "\n",
    "<br>\n",
    "<figure>\n",
    "    <img src=\"./img/ipython-03.png\" alt=\"Terminal Interativo IPython\" width=\"640\">\n",
    "    <figcaption style=\"text-align: center\"><b>Figura 5</b> - Janela de referência dos principais comandos no IPython.</figcaption>\n",
    "</figure>\n",
    "\n",
    "<br>\n",
    "<figure>\n",
    "    <img src=\"./img/ipython-04.png\" alt=\"Terminal Interativo IPython\" width=\"640\">\n",
    "    <figcaption style=\"text-align: center\"><b>Figura 6</b> - Acessando o sistema de ajuda do Python no terminal IPython.</figcaption>\n",
    "</figure>\n",
    "\n",
    "<br>\n",
    "<figure>\n",
    "    <img src=\"./img/ipython-05-a.png\" alt=\"Terminal Interativo IPython\" width=\"640\">\n",
    "    <figcaption style=\"text-align: center\"><b>Figura 7</b> - Detalhando um objeto através do caracter `?` no terminal IPython.</figcaption>\n",
    "</figure>\n",
    "\n",
    "<br>\n",
    "<figure>\n",
    "    <img src=\"./img/ipython-05-b.png\" alt=\"Terminal Interativo IPython\" width=\"640\">\n",
    "    <figcaption style=\"text-align: center\"><b>Figura 8</b> - Detalhando um objeto através do caracter `?` no terminal IPython.</figcaption>\n",
    "</figure>\n",
    "\n",
    "<br>\n",
    "<figure>\n",
    "    <img src=\"./img/ipython-05-c.png\" alt=\"Terminal Interativo IPython\" width=\"640\">\n",
    "    <figcaption style=\"text-align: center\"><b>Figura 9</b> - Detalhando um objeto através do caracter `??` no terminal IPython.</figcaption>\n",
    "</figure>"
   ]
  },
  {
   "cell_type": "markdown",
   "metadata": {},
   "source": [
    "# 2.1 Numeração das Entradas e Saídas\n",
    "<hr style=\"border:0.25px solid #0077b9;\">\n",
    "\n",
    "O terminal interativo padrão do Python mantém o resultado de uma expressão avaliada sem associação a um nome específico, em uma variável chamada \"`_`\" (um sublinhado simples). No entanto, cada novo resultado acaba por sobrescrever esse resultado.\n",
    "\n",
    "O terminal do IPython utiliza um sistema de numeração para as entradas e saídas: `In [N]` e `Out[N]`.\n",
    "\n",
    "Todas as saídas podem ser acessadas através do nome \"`_N`\". A `Figura 10` mostra como funciona esse recurso:<br><br>\n",
    "\n",
    "<figure>\n",
    "    <img src=\"./img/ipython-06.png\" alt=\"Terminal Interativo IPython\" width=\"640\">\n",
    "    <figcaption style=\"text-align: center\"><b>Figura 10</b> - Reutilizando as saídas no IPython.</figcaption>\n",
    "</figure>\n",
    "\n",
    "As entradas podem ser ser acessadas através dos padrões: `_i<n>` ou `_ih[<n>]` ou `In[<n>]`.\n",
    "\n",
    "A entrada 9 pode ser acessada da seguinte forma: `_i9` ou `_ih[9]` ou `In[9]`.\n",
    "\n",
    "Para maiores informações sobre o funcionamento desse sistema, consulte [aqui](http://ipython.readthedocs.io/en/stable/interactive/reference.html#input-caching-system) e [aqui](http://ipython.readthedocs.io/en/stable/interactive/reference.html#output-caching-system)."
   ]
  },
  {
   "cell_type": "markdown",
   "metadata": {},
   "source": [
    "# 3. Jupyter Notebooks\n",
    "<hr style=\"border:1px solid #0077b9;\">\n",
    "\n",
    "O [Jupyter Notebook](https://jupyter-notebook.readthedocs.io/en/stable/) permite a criação de documentos que misturam elementos de código e textos descritivos formatados em Markdown, o que possibilita a inclusão de textos em HTML ou LaTeX. Usando a infraestrutura do IPython dentro do navegador, oferece um excelente ambiente de computação interativa.\n",
    "\n",
    "Os documentos, chamados de *notebooks*, são armazenados em arquivos texto no formato `JSON` com a extensão `.ipynb`. Os documentos podem ser organizados em células de diversos tipos, como células para escrita e execução de código e células para documentação usando a notação Markdown.\n",
    "\n",
    "Assim como no console do IPython, as células de código são organizadas em células de entrada (`In [N]`) e saída (`Out[N]`), valendo o mesmo sistema de *cache* das entradas e resultados.\n",
    "\n",
    "Os *notebooks* podem ser exportados para diversos outros formatos, incluindo HTML, LaTeX, PDF, e slides. A ferramenta `nbconvert` pode ser usada para esta finalidade.\n",
    "\n",
    "Esta tecnologia tem sido amplamente aceita na comunidade de Ciência dos Dados (Data Science). Além disso, tem sido integrada com diversas outras plataformas em nuvem (cloud), como o [GitHub](https://github.com), que é capaz de apresentar arquivos com a extensão `.ipynb` diretamente no navegador como páginas HTML. O site https://mybinder.org é capaz de tornar um repositório do GitHub em uma coleção de *notebooks* interativos."
   ]
  },
  {
   "cell_type": "markdown",
   "metadata": {},
   "source": [
    "## 3.1 Inicializando o Jupyter Notebook\n",
    "<hr style=\"border:0.25px solid #0077b9;\">\n",
    "\n",
    "Para inicializar o servidor Jupyter Notebook, você pode digitar na linha de comando do seu sistema operacional o seguinte comando:\n",
    "\n",
    "```bash\n",
    "$ jupyter notebook\n",
    "```\n",
    "\n",
    "Na `Figura 11`, mostramos como esse comando pode ser executado no terminal do sistema operacional.<br><br>\n",
    "\n",
    "<figure>\n",
    "    <img src=\"./img/jupyter-notebook-01.png\" alt=\"Inicializando o Jupyter Notebook\" width=\"640\">\n",
    "    <figcaption style=\"text-align: center\"><b>Figura 11</b> - Inicializando o Jupyter Notebook.</figcaption>\n",
    "</figure>\n",
    "\n",
    "O comando acima irá escrever algumas informações na tela do terminal do sistema operacional, conforme mostrado na `Figura 12`.<br><br>\n",
    "\n",
    "<figure>\n",
    "    <img src=\"./img/jupyter-notebook-02.png\" alt=\"Jupyter Notebook em inicialização.\" width=\"640\">\n",
    "    <figcaption style=\"text-align: center\"><b>Figura 12</b> - Jupyter Notebook em inicialização..</figcaption>\n",
    "</figure>\n",
    "\n",
    "Ao final da inicialização do Jupyter Notebook, será aberto o navegador associado a URL da aplicação web, que por padrão fica configurada no endereço: http://127.0.0.1:8888 (`Figura 13`).<br><br>\n",
    "\n",
    "<figure>\n",
    "    <img src=\"./img/jupyter-notebook-03.png\" alt=\"Aplicação Web Jupyter Notebook.\" width=\"640\">\n",
    "    <figcaption style=\"text-align: center\"><b>Figura 13</b> - Aplicação Web Jupyter Notebook.</figcaption>\n",
    "</figure>\n",
    "\n",
    "Note na `Figura 13` que a pasta de onde executamos o comando `jupyter notebook` se torna a raiz do sistema de arquivos na qual podemos navegar na aplicação exibida. Nessa janela podemos observar a existência de duas pastas (`exemplos` e `img`) e um arquivo (`ipython-e-jupyter-notebooks.ipynb`). Para os arquivos com extensão `.ipynb`, como o notebook `ipython-e-jupyter-notebooks.ipynb`, é mostrado sua última execução, que neste caso ocorreu a \"4 horas atrás\". Se o notebook estivesse em execução, seu nome seria destacado com um ícone verde e a palavra `Running` como mostrado na `Figura 14`.<br><br>\n",
    "\n",
    "<figure>\n",
    "    <img src=\"./img/jupyter-notebook-05.png\" alt=\"Jupyter Notebook em execução.\" width=\"640\">\n",
    "    <figcaption style=\"text-align: center\"><b>Figura 14</b> - Aplicação Web indicando que um notebook encontra-se em execução.</figcaption>\n",
    "</figure>\n",
    "\n",
    "Na janela principal do Jupyter, podemos criar um novo notebook pressionando o botão `New` e escolhendo o tipo de documento que desejamos criar. Vamos escolher a opção `Python 3` (`Figura 15`).<br><br>\n",
    "\n",
    "<figure>\n",
    "    <img src=\"./img/jupyter-notebook-04.png\" alt=\"Criando um novo Jupyter Notebook.\" width=\"640\">\n",
    "    <figcaption style=\"text-align: center\"><b>Figura 15</b> - Criando um novo Jupyter Notebook.</figcaption>\n",
    "</figure>\n",
    "\n",
    "Uma nova aba do navegador será aberta como na `Figura 16`.<br><br>\n",
    "\n",
    "<figure>\n",
    "    <img src=\"./img/jupyter-notebook-06.png\" alt=\"Novo Jupyter Notebook.\" width=\"640\">\n",
    "    <figcaption style=\"text-align: center\"><b>Figura 16</b> - Novo Jupyter Notebook.</figcaption>\n",
    "</figure>"
   ]
  },
  {
   "cell_type": "markdown",
   "metadata": {},
   "source": [
    "## 3.2 Editando Notebooks\n",
    "<hr style=\"border:0.25px solid #0077b9;\">\n",
    "\n",
    "Vamos trocar o nome do novo notebook, que por padrão possui o nome `Untitled`, para `meu-primeiro-notebook`. Isso pode ser feito clicando no nome `Untitled`, apresentado na parte superior esquerda da janela, próxima ao logo do Jupyter. Uma janela como a da `Figura 17` será aberta:<br><br>\n",
    "\n",
    "<figure>\n",
    "    <img src=\"./img/jupyter-notebook-07.png\" alt=\"Trocando o nome de um Jupyter Notebook.\" width=\"640\">\n",
    "    <figcaption style=\"text-align: center\"><b>Figura 17</b> - Trocando o nome de um Jupyter Notebook.</figcaption>\n",
    "</figure>\n",
    "\n",
    "Esse novo documento é criado contendo por padrão uma única célula, onde podemos escrever um código Python, como mostrado na `Figura 18`.<br><br>\n",
    "\n",
    "<figure>\n",
    "    <img src=\"./img/jupyter-notebook-09.png\" alt=\"Célula com código Python.\" width=\"640\">\n",
    "    <figcaption style=\"text-align: center\"><b>Figura 18</b> - Célula com código Python.</figcaption>\n",
    "</figure>"
   ]
  },
  {
   "cell_type": "markdown",
   "metadata": {},
   "source": [
    "Uma célula é uma caixa de texto multi-linha, cujo conteúdo pode ser executado pressionando-se `Shift-Enter` ou clicando no botão `Run` na barra de botões, ou através dos menus `Cell | Run` na barra de menus. A `Figura 19` mostra o resultado da execução dessa célula.<br><br>\n",
    "\n",
    "<figure>\n",
    "    <img src=\"./img/jupyter-notebook-10.png\" alt=\"Resultado da execução da célula com código Python.\" width=\"640\">\n",
    "    <figcaption style=\"text-align: center\"><b>Figura 19</b> - Resultado da execução da célula com código Python.</figcaption>\n",
    "</figure>\n",
    "\n",
    "O tipo da célula irá determinar o comportamento da execução. Basicamente temos três tipos de células: células de código, células com textos formatados em Markdown, e células *raw*.\n",
    "\n",
    "Toda célula ao ser criada é definida como sendo do tipo código, podendo esse tipo ser alterado através da `drop-down list` na barra de botões ou através de teclas de atalho.\n",
    "\n",
    "Vamos adicionar uma nova célula, desta vez como uma célula contendo textos na notação Markdown. Como mostrado na `Figura 20`, essa sintaxe aceita trechos em HTML e LaTeX.<br><br>\n",
    "\n",
    "<figure>\n",
    "    <img src=\"./img/jupyter-notebook-12.png\" alt=\"Célula com textos em Markdown.\" width=\"640\">\n",
    "    <figcaption style=\"text-align: center\"><b>Figura 20</b> - Célula com textos em Markdown.</figcaption>\n",
    "</figure>\n",
    "\n",
    "A execução de uma célula em Markdown irá gerar uma visualização em HTML, como mostrado na `Figura 21`.<br><br>\n",
    "\n",
    "<figure>\n",
    "    <img src=\"./img/jupyter-notebook-13.png\" alt=\"Resultado da execução de uma célula com textos em Markdown.\" width=\"640\">\n",
    "    <figcaption style=\"text-align: center\"><b>Figura 21</b> - Resultado da execução de uma célula com textos em Markdown.</figcaption>\n",
    "</figure>\n",
    "\n",
    "**Atenção:** o código do notebook acima enontra-se disponível [aqui](03-meu-primeiro-notebook.ipynb)."
   ]
  },
  {
   "cell_type": "markdown",
   "metadata": {},
   "source": [
    "# 4. Comandos Mágicos\n",
    "<hr style=\"border:1px solid #0077b9;\">\n",
    "\n",
    "O IPython oferece a possibilidade de executar comandos do sistema operacional bem como alguns comandos específicos de dentro do seu terminal interativo. Esses comandos são chamados de *comandos mágicos* (ou *magic commands*). Também podemos usar esse recurso dentro dos notebooks.\n",
    "\n",
    "Basicamente, existem dois tipos de comandos mágicos: por *linha* (*line magics*) e por *célula* (*cell magics*).\n",
    "\n",
    "Os comandos de linha, em geral, são prefixados pelo caracter `%` e tratam todos os valores após o comando até o final da linha como argumentos.\n",
    "\n",
    "O comando `ls` abaixo ilustra este tipo de comando mágico. O `ls` recebe como argumentos os valores `lh` e `/`, e produz uma listagem dos arquivos e diretórios:"
   ]
  },
  {
   "cell_type": "code",
   "execution_count": null,
   "metadata": {},
   "outputs": [],
   "source": [
    "!ls /"
   ]
  },
  {
   "cell_type": "markdown",
   "metadata": {},
   "source": [
    "Podemos utilizar os resultados dos comandos mágicos, como mostrado abaixo, onde a listagem produzida pelo comando `ls` ficará associada à variável `saida`:"
   ]
  },
  {
   "cell_type": "code",
   "execution_count": null,
   "metadata": {},
   "outputs": [],
   "source": [
    "saida = !ls /\n",
    "\n",
    "for f in saida:\n",
    "    print(\"FFF:\", f)"
   ]
  },
  {
   "cell_type": "markdown",
   "metadata": {},
   "source": [
    "Podemos também passar valores de variáveis em Python para os comandos mágicos. Para isso, basta prefixar o nome dos objetos Python com o caracter `$` ou delimitá-los como `{}`. Exemplo:"
   ]
  },
  {
   "cell_type": "code",
   "execution_count": null,
   "metadata": {},
   "outputs": [],
   "source": [
    "diretorios = [ \"/Users\", \"/\", \"/Applications\" ]\n",
    "\n",
    "for d in diretorios:\n",
    "    print(\"---------\")\n",
    "    !ls $d"
   ]
  },
  {
   "cell_type": "markdown",
   "metadata": {},
   "source": [
    "ou, usando os nomes de objetos delimitados por `{}`:"
   ]
  },
  {
   "cell_type": "code",
   "execution_count": null,
   "metadata": {},
   "outputs": [],
   "source": [
    "diretorios = [ \"/Users\", \"/\", \"/Applications\" ]\n",
    "\n",
    "for d in diretorios:\n",
    "    print(\"---------\")\n",
    "    !ls {d}"
   ]
  },
  {
   "cell_type": "markdown",
   "metadata": {},
   "source": [
    "Os comandos de linha também podem ser utilizados sem o caracter `%`, como mostrado na `Figura 22`, onde o comando mágico [`logstart`](http://ipython.readthedocs.io/en/stable/interactive/reference.html#session-logging-and-restoring) é usado para ativar a escrita de um log para salvar a sessão de comandos utilizada no terminal interativo do IPython.<br><br>\n",
    "\n",
    "<figure>\n",
    "    <img src=\"./img/ipython-07.png\" alt=\"Terminal Interativo IPython\" width=\"640\">\n",
    "    <figcaption style=\"text-align: center\"><b>Figura 22</b> - Ativando o log no IPython.</figcaption>\n",
    "</figure>\n",
    "\n",
    "O conteúdo do arquivo de log é mostrado na `Figura 23`. Tanto as entradas quanto as saídas são armazenadas nesse arquivo, além da data e hora de execução de cada comando na sessão.<br><br>\n",
    "\n",
    "<figure>\n",
    "    <img src=\"./img/ipython-08.png\" alt=\"Terminal Interativo IPython\" width=\"640\">\n",
    "    <figcaption style=\"text-align: center\"><b>Figura 23</b> - Documento de log gerado pela ativação do log.</figcaption>\n",
    "</figure>"
   ]
  },
  {
   "cell_type": "markdown",
   "metadata": {},
   "source": [
    "O comandos mágicos por célula (*cell magics*) são prefixados por `%%` e funcionam como comandos que tomam como argumentos todos os valores seguinte na sua linha bem como das demais linhas da sua célula. Para ilustrar esse tipo de comando, vamos utilizar o comando `%%write` para escrever o conteúdo de uma célula para um arquivo:"
   ]
  },
  {
   "cell_type": "code",
   "execution_count": null,
   "metadata": {},
   "outputs": [],
   "source": [
    "#%%writefile exemplos/fatorial.py\n",
    "\n",
    "n = int( input( \"Digite um número no intervalo [1, 10]: \" ) )\n",
    " \n",
    "if (n >= 1) and (n <= 10):\n",
    " \n",
    "    fat = 1\n",
    "    \n",
    "    while n > 1:\n",
    "        fat = fat * n\n",
    "        n = n - 1\n",
    " \n",
    "    print(\"fatorial:\", fat)\n",
    " \n",
    "else:\n",
    "    print(\"Número fora do intervalo [1, 10].\")\n",
    "    print(\"Rode o programa novamente!\")"
   ]
  },
  {
   "cell_type": "markdown",
   "metadata": {},
   "source": [
    "Outro comando mágico interessante consiste na inclusão de um vídeo dentro do notebook:"
   ]
  },
  {
   "cell_type": "code",
   "execution_count": null,
   "metadata": {
    "ExecuteTime": {
     "end_time": "2019-06-27T18:03:02.920044Z",
     "start_time": "2019-06-27T18:03:02.911625Z"
    }
   },
   "outputs": [],
   "source": [
    "%%HTML\n",
    "\n",
    "<iframe width=\"640\" height=\"480\" src=\"https://www.youtube.com/embed/nb8raxk2jFU\" frameborder=\"0\" allowfullscreen></iframe>"
   ]
  },
  {
   "cell_type": "markdown",
   "metadata": {},
   "source": [
    "Para realizar a tomada de tempo de algum trecho de código Python, podemos usar o comando mágico `%%timeit`"
   ]
  },
  {
   "cell_type": "code",
   "execution_count": null,
   "metadata": {},
   "outputs": [],
   "source": [
    "%%timeit\n",
    "\n",
    "lista = [x for x in range(1000000)]\n",
    "\n",
    "sum(lista)"
   ]
  },
  {
   "cell_type": "markdown",
   "metadata": {},
   "source": [
    "Para obter mais informações sobre o sistema de comandos mágicos, podemos usar `%magic`:"
   ]
  },
  {
   "cell_type": "code",
   "execution_count": null,
   "metadata": {},
   "outputs": [],
   "source": [
    "%magic"
   ]
  },
  {
   "cell_type": "markdown",
   "metadata": {},
   "source": [
    "Para obter informações sobre um determinado comando mágico, acrescente um caracter `?` ao nome do comando, como para o comando `load` abaixo:"
   ]
  },
  {
   "cell_type": "code",
   "execution_count": null,
   "metadata": {},
   "outputs": [],
   "source": [
    "%load?"
   ]
  },
  {
   "cell_type": "markdown",
   "metadata": {},
   "source": [
    "O comando `%load` permite que carreguemos um script para dentro de uma célula, como no exemplo abaixo:"
   ]
  },
  {
   "cell_type": "code",
   "execution_count": null,
   "metadata": {},
   "outputs": [],
   "source": [
    "%load exemplos/fatorial.py"
   ]
  },
  {
   "cell_type": "markdown",
   "metadata": {},
   "source": [
    "Outro comando útil para uso no dia a dia é o `%run`, que permite executar qualquer script Python. No exemplo abaixo, usamos este comando para rodar o script da sequência de Fibonacci:"
   ]
  },
  {
   "cell_type": "code",
   "execution_count": null,
   "metadata": {},
   "outputs": [],
   "source": [
    "%run exemplos/fibonacci.py"
   ]
  },
  {
   "cell_type": "markdown",
   "metadata": {},
   "source": [
    "A lista completa de comandos mágicos pode ser obtida através do seguinte comando:"
   ]
  },
  {
   "cell_type": "code",
   "execution_count": null,
   "metadata": {
    "scrolled": true
   },
   "outputs": [],
   "source": [
    "%lsmagic"
   ]
  },
  {
   "cell_type": "markdown",
   "metadata": {},
   "source": [
    "# 5. Exemplos\n",
    "<hr style=\"border:1px solid #0077b9;\">"
   ]
  },
  {
   "cell_type": "markdown",
   "metadata": {},
   "source": [
    "**Exemplo 1.** A fórmula de Haversine possbilita o cálculo de distâncias entre dois pontos em uma esfera a partir de suas latitudes e longitudes. Dada a seguinte fórmula:\n",
    "\n",
    "$$\n",
    "d = 2r \\arcsin{\\sqrt{sin^2({\\frac{\\phi_2 - \\phi_1}{2}}) + \\cos{\\phi_1} \\cos{\\phi_2} \\sin^2({\\frac{\\lambda_2 - \\lambda_1}{2}})}}\n",
    "$$\n",
    "\n",
    "onde:\n",
    "- **$d$:** distância entre dois pontos na esfera.\n",
    "- **$r$:** é o raio da esfera (~6371km).\n",
    "- **$\\phi_1$** e **$\\phi_2$:** latitude dos pontos em radianos.\n",
    "- **$\\lambda_1$** e **$\\lambda_2$:** longitude dos pontos em radianos.\n",
    "\n",
    "Construa uma função chamada `DistanciaHaversine` que receba quatro valores de entrada representando duas localizações quaisquer em grau-decimal e que retorne um único valor com a distância em `km`. Para maiores detalhes sobre essa fórmua, veja a [Wikipedia](https://en.wikipedia.org/wiki/Haversine_formula).\n",
    "\n",
    "**Solução:**"
   ]
  },
  {
   "cell_type": "code",
   "execution_count": null,
   "metadata": {},
   "outputs": [],
   "source": [
    "# %load exemplos/haversine.py\n",
    "import math\n",
    "\n",
    "def DistanciaHaversive(lat1, long1, lat2, long2):\n",
    "    # Raio da Terra: 6371km\n",
    "    raio_terra = 6371\n",
    "\n",
    "    # Covertendo de graus-decimal para radianos\n",
    "    ϕ1  = math.radians(lat1)\n",
    "    ϕ2 = math.radians(lat2)\n",
    "    \n",
    "    λ1 = math.radians(long1)\n",
    "    λ2 = math.radians(long2)\n",
    "\n",
    "    # Pré-computando alguns valores da fórmula de Haversine\n",
    "    Δϕ = ϕ2 - ϕ1\n",
    "    Δλ = λ2 - λ1\n",
    "\n",
    "    sin2_fi = math.sin(Δϕ / 2.0) ** 2\n",
    "\n",
    "    sin2_lambda = math.sin(Δλ / 2.0) ** 2\n",
    "\n",
    "    # Computando a distância de Haversine\n",
    "    distancia = 2.0 * raio_terra * math.asin(math.sqrt(sin2_fi + math.cos(ϕ1) * math.cos(ϕ2) * sin2_lambda))\n",
    "\n",
    "    # Retornando a distância computada\n",
    "    return distancia"
   ]
  },
  {
   "cell_type": "markdown",
   "metadata": {},
   "source": [
    "No trecho de código acima, demos o nome de `DistanciaHaversive` para a função, que foi definida com quatro parâmetros formais:\n",
    "- `lat1`: latitude do ponto 1 em graus decimal.\n",
    "- `long1`: longitude do ponto 1 em graus decimal.\n",
    "- `lat2`: latitude do ponto 2 em graus decimal.\n",
    "- `long2`: longitude do ponto 2 em graus decimal.\n",
    "\n",
    "Podemos computar a distância entre São José dos Campos (SP) e Ouro Preto (MG) da seguinte forma:"
   ]
  },
  {
   "cell_type": "code",
   "execution_count": null,
   "metadata": {},
   "outputs": [],
   "source": [
    "d = DistanciaHaversive(-23.17, -45.88, -20.38, -43.50)\n",
    "\n",
    "\n",
    "print(\"Distância: {0:.3f}km\".format(d))"
   ]
  },
  {
   "cell_type": "markdown",
   "metadata": {},
   "source": [
    "**Exemplo 2.** Em Python, existem diversos pacotes para visualização de dados. A [Matplotlib](https://matplotlib.org) é uma das bibliotecas Python mais poderosas para essa finalidade. Trata-se de uma biblioteca multiplataforma (*cross-platform*), capaz de construir visualizações de alta qualidade gráfica, inclusive para inclusão em artigos científicos, e pode ser usada de diversas formas.\n",
    "\n",
    "A Matplotlib também é chamada abreviadamente de `mpl`, sendo seu código fonte disponível no [GitHub](https://github.com/matplotlib/matplotlib). A página oficial do projeto encontra-se no endereço https://matplotlib.org, onde é possível encontrar uma ampla documentação, além de uma [grande galeria de visualizações](https://matplotlib.org/gallery/index.html) produzidas com a `mpl` que podem servir de base para a construção de novas visualizações.\n",
    "\n",
    "O trecho de código abaixo apresenta uma senoide criada através da operação `plot` sobre um objeto `Axes`:"
   ]
  },
  {
   "cell_type": "code",
   "execution_count": null,
   "metadata": {},
   "outputs": [],
   "source": [
    "# %load exemplos/matplotlib-senoide.py"
   ]
  },
  {
   "cell_type": "markdown",
   "metadata": {},
   "source": [
    "# 6. Componentes Gráficos (Widgets)\n",
    "<hr style=\"border:1px solid #0077b9;\">"
   ]
  },
  {
   "cell_type": "markdown",
   "metadata": {},
   "source": [
    "## Interact widget"
   ]
  },
  {
   "cell_type": "code",
   "execution_count": null,
   "metadata": {},
   "outputs": [],
   "source": [
    "from ipywidgets import interact"
   ]
  },
  {
   "cell_type": "code",
   "execution_count": null,
   "metadata": {},
   "outputs": [],
   "source": [
    "def MyFunction(x=14):\n",
    "    return x ** 2\n",
    "\n",
    "interact(MyFunction, x=(10, 30, 2));"
   ]
  },
  {
   "cell_type": "code",
   "execution_count": null,
   "metadata": {},
   "outputs": [],
   "source": [
    "def MyPrint(x):\n",
    "    print(\"Nome: \", x)\n",
    "    \n",
    "interact( MyPrint, x=[ 'Gilberto', 'Rolf', 'Vitor' ] );"
   ]
  },
  {
   "cell_type": "markdown",
   "metadata": {},
   "source": [
    "## widgets"
   ]
  },
  {
   "cell_type": "code",
   "execution_count": null,
   "metadata": {
    "ExecuteTime": {
     "end_time": "2019-06-27T18:00:59.411331Z",
     "start_time": "2019-06-27T18:00:59.405526Z"
    }
   },
   "outputs": [],
   "source": [
    "import ipywidgets as widgets"
   ]
  },
  {
   "cell_type": "code",
   "execution_count": null,
   "metadata": {},
   "outputs": [],
   "source": [
    "x = widgets.IntSlider( min=1, max=10, value=5, step=1 )\n",
    "\n",
    "x"
   ]
  },
  {
   "cell_type": "code",
   "execution_count": null,
   "metadata": {},
   "outputs": [],
   "source": [
    "print(x.value)"
   ]
  },
  {
   "cell_type": "code",
   "execution_count": null,
   "metadata": {},
   "outputs": [],
   "source": [
    "z = widgets.FloatRangeSlider( value=( 0.3, 0.6 ), min=0.0, max=1.0, step=0.05 )\n",
    "z"
   ]
  },
  {
   "cell_type": "code",
   "execution_count": null,
   "metadata": {},
   "outputs": [],
   "source": [
    "z.value"
   ]
  },
  {
   "cell_type": "code",
   "execution_count": null,
   "metadata": {},
   "outputs": [],
   "source": [
    "b = widgets.ToggleButtons( options=( \"Rede A\", \"Rede B\", \"Rede C\" ) )\n",
    "\n",
    "b"
   ]
  },
  {
   "cell_type": "code",
   "execution_count": null,
   "metadata": {},
   "outputs": [],
   "source": [
    "b.value"
   ]
  },
  {
   "cell_type": "code",
   "execution_count": null,
   "metadata": {
    "ExecuteTime": {
     "end_time": "2019-06-27T18:01:04.835915Z",
     "start_time": "2019-06-27T18:01:04.814653Z"
    }
   },
   "outputs": [],
   "source": [
    "nome = widgets.Text(valueb=\"Seu nome\")\n",
    "\n",
    "nome"
   ]
  },
  {
   "cell_type": "code",
   "execution_count": null,
   "metadata": {
    "ExecuteTime": {
     "end_time": "2019-06-27T18:01:12.515939Z",
     "start_time": "2019-06-27T18:01:12.491942Z"
    }
   },
   "outputs": [],
   "source": [
    "nome.value"
   ]
  },
  {
   "cell_type": "code",
   "execution_count": null,
   "metadata": {
    "ExecuteTime": {
     "end_time": "2019-06-27T18:01:20.328252Z",
     "start_time": "2019-06-27T18:01:20.304855Z"
    }
   },
   "outputs": [],
   "source": [
    "dd = widgets.Dropdown(\n",
    "    options=['1', '2', '3'],\n",
    "    value='2',\n",
    "    description='Number:',\n",
    "    disabled=False\n",
    ")\n",
    "\n",
    "dd"
   ]
  },
  {
   "cell_type": "code",
   "execution_count": null,
   "metadata": {
    "ExecuteTime": {
     "end_time": "2019-06-27T18:01:28.662957Z",
     "start_time": "2019-06-27T18:01:28.652373Z"
    }
   },
   "outputs": [],
   "source": [
    "dd.value"
   ]
  },
  {
   "cell_type": "markdown",
   "metadata": {},
   "source": [
    "# 6. Kernel\n",
    "<hr style=\"border:1px solid #0077b9;\">\n",
    "\n",
    "O código contido em um notebook é executado por um mecanismo chamado *kernel*. Por padrão, quando instalamos a  Anaconda com uma determinada versão do Python, como o `Python 3`, na lista de criação de novos notebooks, na janela principal (ou *Notebook Dashboard*), é apresentada a opção `Python 3`. Isto significa que existe um *kernel* para execução dos códigos de notebooks usando a linguagem Python.\n",
    "\n",
    "Esse *kernel* padrão encontra-se associado ao ambiente `base`(ou `root`), o que significa que os notebooks criados por esta opção poderão utilizar todos os pacotes disponíveis nesse ambiente.\n",
    "\n",
    "Quando você cria um novo ambiente virtual com a Anaconda, este ambiente não aparece automaticamente na lista dos possíveis tipos de notebooks a serem criados. Se usar o comando de gerenciamento das especificações de *kernel*, `jupyter kernelspec`, você verá que seu ambiente não se encontra na lista dos ambientes suportados pelos *kernels*  do Jupyter:\n",
    "```bash\n",
    "jupyter kernelspec list\n",
    "```\n",
    "\n",
    "Para registrar um ambiente criado pelo `conda` como um *notebook kernel*, para que você possa utilizar os pacotes instalados nesse ambiente, você precisa registrar o ambiente virtual como um *kernel* válido. Isto pode ser feito, ativando o ambiente virtual desejado e então rodando um comando `ipykernel` como mostrado abaixo, para o caso do ambiente geospatial:\n",
    "```bash\n",
    "conda activate geospatial\n",
    "\n",
    "python -m ipykernel install --user \\\n",
    "       --name geospatial --display-name \"Python (geospatial)\"\n",
    "```\n",
    "\n",
    "Ao entrar novamente na janela do *Notebook Dashboard*, você deverá ter o nome `\"Python (geospatial)\"` listado nas opções de criação de um notebook. Isto significa que agora temos um kernel associado ao ambiente `geospatial`. Logo, todos os pacotes disponíveis nesse ambiente poderão ser usados dentro do notebook.\n",
    "\n",
    "Sempre que você criar um novo ambiente, instale também todo o suporte a Jupyter Notebook. Isto significa instalar o pacote jupyter através do `conda` no ambiente ativo:\n",
    "```bash\n",
    "conda activate geospatial\n",
    "\n",
    "\n",
    "conda install jupyter\n",
    "```\n",
    "\n",
    "O comando acima, instala os pacotes `notebook` e `ipykernel`, necessários para execução do comando acima de registro de um ambiente virtual como um kernel.\n",
    "\n",
    "Outra opção para [registrar todos os ambientes como kernels de uma só vez pode ser](https://stackoverflow.com/questions/39604271/conda-environments-not-showing-up-in-jupyter-notebook):\n",
    "```bash\n",
    "conda activate geospatial\n",
    "\n",
    "\n",
    "conda install nb_conda_kernels\n",
    "\n",
    "\n",
    "jupyter notebook\n",
    "```\n",
    "\n",
    "Para saber o caminho de todos os kernels registrados:\n",
    "```bash\n",
    "jupyter kernelspec list\n",
    "```\n",
    "\n",
    "Saída:\n",
    "```\n",
    "Available kernels:\n",
    "  geospatial    /Users/gribeiro/Library/Jupyter/kernels/geospatial\n",
    "  ir            /Users/gribeiro/Library/Jupyter/kernels/ir\n",
    "  ser347        /Users/gribeiro/Library/Jupyter/kernels/ser347\n",
    "  python3       /Users/gribeiro/anaconda3/share/jupyter/kernels/python3\n",
    "```\n",
    "  \n",
    "Para remover um kernel basta apagar o diretório dele ou fazer:\n",
    "```bash\n",
    "jupyter kernelspec uninstall ser347\n",
    "\n",
    "```\n",
    "\n",
    "[Dica de como trocar a pasta de início no Windows do Jupyter Notebook](https://stackoverflow.com/questions/35254852/how-to-change-the-jupyter-start-up-folder)\n",
    "\n",
    "No Windows, para saber o caminho de um executável:\n",
    "```bash\n",
    "where jupyter\n",
    "```\n",
    "ou\n",
    "```bash\n",
    "where python\n",
    "```\n",
    "\n",
    "No Linux e macOS:\n",
    "```bash\n",
    "which jupyter\n",
    "```\n",
    "ou\n",
    "```bash\n",
    "which python\n",
    "```\n",
    "\n",
    "Para que o comando `conda activate` possa ser usado nas novas versões Anaconda no macOS, faça:\n",
    "```bash\n",
    "echo \". /Users/gribeiro/anaconda3/etc/profile.d/conda.sh\" >> ~/.bash_profile\n",
    "```\n",
    "\n"
   ]
  },
  {
   "cell_type": "markdown",
   "metadata": {},
   "source": [
    "# 7. Jupyter e R\n",
    "<hr style=\"border:1px solid #0077b9;\">\n",
    "\n",
    "Podemos instalar um ambiente completo do R da seguinte forma:\n",
    "```bash\n",
    "conda install r-essentials\n",
    "```\n",
    "ou\n",
    "\n",
    "```bash\n",
    "conda install -c r r-essentials\n",
    "```\n",
    "\n",
    "Se você preferir registrar um kernel para seu ambiente R, abra o terminal interativo do R e entre com os seguintes comandos:\n",
    "```R\n",
    "install.packages(\"devtools\")\n",
    "\n",
    "devtools::install_github(\"IRkernel/IRkernel\")\n",
    "\n",
    "IRkernel::installspec(name=\"R-3.4.4\", displayname=\"R-3.4.4\")\n",
    "```\n",
    "\n",
    "Esse comando fará com que um kernel com o nome `R-3.4.4` seja instalado em:\n",
    "```\n",
    "/Users/gribeiro/Library/Jupyter/kernels/r-3.4.4\n",
    "```\n",
    "\n",
    "Ao abrir o Jupyter Dashboard você verá uma opção de criação de novos notebook com o kernel `R-3.4.4`."
   ]
  },
  {
   "cell_type": "markdown",
   "metadata": {},
   "source": [
    "# Considerações Finais\n",
    "<hr style=\"border:1px solid #0077b9;\">\n",
    "\n",
    "O IPython foi inicialmente criado por Fernando Pérez, como uma forma de suprir a necessidade dos cientistas de realizarem rapidamente a exploração de algoritmos, análise e visualização de dados, atividades importantes na rotina diária do trabalho científico. Para uma discussão aprodundada da motivação e do projeto IPython, consulte Pérez e Granger (2007).\n",
    "\n",
    "Os comandos mágicos podem ser estendidos, isto é, podemos criar nosso próprios comando e registrá-los no sistema do IPython.\n",
    "\n",
    "Através de comandos mágicos é possível integrarmos facilmente códigos em Python e R. Para maiores detalhes sobre esse assunto, veja o seguinte Jupyter Notebook: [The cell magics in Python](http://nbviewer.ipython.org/urls/raw.github.com/ipython/ipython/1.x/examples/notebooks/Cell%20Magics.ipynb).\n",
    "\n",
    "Existe uma grande galeria de Jupyter Notebooks disponível para estudo. Consulte [este site](https://github.com/jupyter/jupyter/wiki/a-gallery-of-interesting-jupyter-notebooks) para obter uma lista.\n",
    "\n",
    "Encontra-se em desenvolvomento um novo ambiente do Jupyter chamado **Jupyter Lab**.\n",
    "\n",
    "Nas próximas aulas iremos utilizar Jupyter Notebooks para explorar alguns pacotes de Data Science, como NumPy, Matplotlib e Pandas, bem como a parte geoespacial através da GDAL e GeoPandas. Também usaremos esse recurso para mostrar como aproveitar as ferramentas livres para controle de versionamento e compartilhar seu trabalho no GitHub."
   ]
  },
  {
   "cell_type": "markdown",
   "metadata": {},
   "source": [
    "# Referências Bibliográficas\n",
    "<hr style=\"border:1px solid #0077b9;\">\n",
    "\n",
    "- Ferando Pérez e Brian E. Granger. [IPython: A System for Interactive Scientific Computing](https://web.archive.org/web/20100602042637/http://fperez.org/papers/ipython07_pe-gr_cise.pdf). Computing in Science & Engineering, v. 9, n. 3, 2007, pp. 21-29.<br><br>\n",
    "\n",
    "- Fernando Perez. [The IPython notebook: a historical retrospective](http://blog.fperez.org/2012/01/ipython-notebook-historical.html). Acesso: 13 de Abril de 2018.<br><br>\n",
    "\n",
    "- [IPython Tutorial](http://ipython.readthedocs.io/en/stable/interactive/index.html). Acesso: 13 de Abril de 2018.<br><br>\n",
    "\n",
    "\n",
    "- [IPython Cookbook](https://github.com/ipython/ipython/wiki/Cookbook%3A-Index). Acesso: 13 de Abril de 2018.<br><br>\n",
    "\n",
    "- [IPython Tips & Tricks](http://ipython.readthedocs.io/en/stable/interactive/tips.html). Acesso: 13 de Abril de 2018.<br><br>\n",
    "\n",
    "- [The cell magics in IPython](http://nbviewer.ipython.org/urls/raw.github.com/ipython/ipython/1.x/examples/notebooks/Cell%20Magics.ipynb). Acesso: 13 de Abril de 2018.<br><br>\n",
    "\n",
    "- [The Jupyter notebook](https://jupyter-notebook.readthedocs.io/en/stable/). Acesso: 13 de Abril de 2018.<br><br>\n",
    "\n",
    "- [Jupyter/IPython Notebook Quick Start Guide](http://jupyter-notebook-beginner-guide.readthedocs.io/en/latest/index.html). Acesso: 13 de Abril de 2018.<br><br>\n",
    "\n",
    "### Galeria de Notebooks\n",
    "\n",
    "- [A gallery of interesting Jupyter Notebooks](https://github.com/jupyter/jupyter/wiki/a-gallery-of-interesting-jupyter-notebooks). Acesso: 21 de Abril de 2018."
   ]
  }
 ],
 "metadata": {
  "kernelspec": {
   "display_name": "Python 3",
   "language": "python",
   "name": "python3"
  },
  "language_info": {
   "codemirror_mode": {
    "name": "ipython",
    "version": 3
   },
   "file_extension": ".py",
   "mimetype": "text/x-python",
   "name": "python",
   "nbconvert_exporter": "python",
   "pygments_lexer": "ipython3",
   "version": "3.7.3"
  },
  "toc": {
   "base_numbering": 1,
   "nav_menu": {},
   "number_sections": false,
   "sideBar": true,
   "skip_h1_title": false,
   "title_cell": "Table of Contents",
   "title_sidebar": "Contents",
   "toc_cell": false,
   "toc_position": {},
   "toc_section_display": true,
   "toc_window_display": false
  },
  "varInspector": {
   "cols": {
    "lenName": 16,
    "lenType": 16,
    "lenVar": 40
   },
   "kernels_config": {
    "python": {
     "delete_cmd_postfix": "",
     "delete_cmd_prefix": "del ",
     "library": "var_list.py",
     "varRefreshCmd": "print(var_dic_list())"
    },
    "r": {
     "delete_cmd_postfix": ") ",
     "delete_cmd_prefix": "rm(",
     "library": "var_list.r",
     "varRefreshCmd": "cat(var_dic_list()) "
    }
   },
   "types_to_exclude": [
    "module",
    "function",
    "builtin_function_or_method",
    "instance",
    "_Feature"
   ],
   "window_display": false
  }
 },
 "nbformat": 4,
 "nbformat_minor": 2
}
