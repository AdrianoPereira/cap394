{
 "cells": [
  {
   "cell_type": "markdown",
   "metadata": {
    "slideshow": {
     "slide_type": "slide"
    }
   },
   "source": [
    "# <span style=\"color:#336699\">CAP394 - Introduction to Data Science [<img src=\"./img/logo.png\" alt=\"CAP394 - Introduction to Data Science\" style=\"height: 35px;\" align=\"right\">](http://www.lac.inpe.br/~rafael.santos/cap394.html)</span>\n",
    "<hr style=\"border:2px solid #0077b9;\">\n",
    "\n",
    "# <span style=\"color:#336699\">Manipulação de Arquivos</span>\n",
    "\n",
    "\n",
    "[<img src=\"https://upload.wikimedia.org/wikipedia/commons/8/82/Text-x-python.svg\" alt=\"Python IO\" style=\"height: 175px;\" align=\"right\">](https://docs.python.org/3/tutorial/inputoutput.html)\n",
    "\n",
    "Professores:\n",
    "- Rafael Santos\n",
    "- Gilberto Ribeiro de Queiroz\n",
    "\n",
    "Colaborador:\n",
    "- Vitor Gomes"
   ]
  },
  {
   "cell_type": "markdown",
   "metadata": {
    "slideshow": {
     "slide_type": "subslide"
    }
   },
   "source": [
    "# Introdução\n",
    "<hr style=\"border:1px solid #0077b9;\">\n",
    "\n",
    "O Python possui funcionalidades nativas para a manipulação de arquivos. Basicamente o processo o fluxo para a manipulação de arquivos em Python segue a mesma abordagem utilizada em outras linguagens, onde é feita a abertura do arquivo (**open**), a leitura (**read**) ou escrita (**write**) e então o fechamento (**close**) do arquivo. "
   ]
  },
  {
   "cell_type": "markdown",
   "metadata": {
    "slideshow": {
     "slide_type": "subslide"
    }
   },
   "source": [
    "# 2. Abrindo um arquivo\n",
    "<hr style=\"border:1px solid #0077b9;\">\n",
    "\n",
    "A função **open()** é responsável por fazer a abertura do arquivo. Frequentemente ela é utilizada passando dois argumentos *open(**filename**, **mode**)*. Ao abrir com sucesso um arquivo, essa função retorna um `file object`. Alguns modos de abertuda de arquivo disponíveis são:\n",
    "- **r**: leitura;\n",
    "- **w**: escrita;\n",
    "- **a**: adição (appending);\n",
    "- **r+** ou **w+**: leitura e escrita.\n",
    "- **b**: modo binário\n",
    "\n",
    "Em [fopen](http://www.manpagez.com/man/3/fopen/) é possível obter mais detalhes outros modos."
   ]
  },
  {
   "cell_type": "code",
   "execution_count": null,
   "metadata": {
    "ExecuteTime": {
     "end_time": "2019-06-27T18:06:05.414546Z",
     "start_time": "2019-06-27T18:06:05.406574Z"
    },
    "slideshow": {
     "slide_type": "fragment"
    }
   },
   "outputs": [],
   "source": [
    "# Abrindo arquivo para leitura\n",
    "f = open('dados/file1.txt', 'r')\n",
    "\n",
    "# Imprimindo o objeto file\n",
    "print(f)"
   ]
  },
  {
   "cell_type": "markdown",
   "metadata": {
    "slideshow": {
     "slide_type": "slide"
    }
   },
   "source": [
    "# 3. Fechando um arquivo\n",
    "<hr style=\"border:1px solid #0077b9;\">\n",
    "\n",
    "É recomendável realizar o fechamento dos arquivos que não serão mais utilizados através do método **close**. Neste momento, a aplicação libera os recursos requisitas e possíveis dados ainda não gravados são descarregados para o arquivo. Apesar do Python automaticamente fechar o arquivo quando a referência para o objeto é desfeita, é uma boa prática usar o método **close()** ao encerrar o uso de um arquivo. \n",
    "\n",
    "Sobre outros modos de 'fechar' um arquivo: [Is necessary to use close()?](https://stackoverflow.com/a/1832589)."
   ]
  },
  {
   "cell_type": "code",
   "execution_count": null,
   "metadata": {
    "ExecuteTime": {
     "end_time": "2019-06-27T18:06:11.700433Z",
     "start_time": "2019-06-27T18:06:11.692618Z"
    },
    "scrolled": true,
    "slideshow": {
     "slide_type": "fragment"
    }
   },
   "outputs": [],
   "source": [
    "f = open('dados/file3.txt', 'r')\n",
    "\n",
    "# do something \n",
    "\n",
    "f.close()"
   ]
  },
  {
   "cell_type": "markdown",
   "metadata": {
    "slideshow": {
     "slide_type": "subslide"
    }
   },
   "source": [
    "Para saber se um arquivo está aberto ou fechado, utilize:"
   ]
  },
  {
   "cell_type": "code",
   "execution_count": null,
   "metadata": {
    "ExecuteTime": {
     "end_time": "2019-06-27T18:06:14.018468Z",
     "start_time": "2019-06-27T18:06:14.010482Z"
    },
    "slideshow": {
     "slide_type": "fragment"
    }
   },
   "outputs": [],
   "source": [
    "f = open('dados/file3.txt', 'r')\n",
    "#f.close()\n",
    "\n",
    "if f.closed:\n",
    "    print('File is closed')\n",
    "else:\n",
    "    print('File is opened')"
   ]
  },
  {
   "cell_type": "markdown",
   "metadata": {
    "slideshow": {
     "slide_type": "slide"
    }
   },
   "source": [
    "# 4. Leitura de arquivos\n",
    "<hr style=\"border:1px solid #0077b9;\">\n",
    "\n",
    "O `file object`  possui o método **read()** que permite a leitura do conteúdo do arquivo. Se não forem passados argumentos, ela fará a leitura de todo o arquivo:"
   ]
  },
  {
   "cell_type": "code",
   "execution_count": null,
   "metadata": {
    "ExecuteTime": {
     "end_time": "2019-06-27T18:06:17.143324Z",
     "start_time": "2019-06-27T18:06:17.132149Z"
    },
    "slideshow": {
     "slide_type": "fragment"
    }
   },
   "outputs": [],
   "source": [
    "f = open('dados/file1.txt', 'r')\n",
    "conteudo = f.read()\n",
    "\n",
    "print(conteudo)\n",
    "\n",
    "f.close()"
   ]
  },
  {
   "cell_type": "markdown",
   "metadata": {
    "slideshow": {
     "slide_type": "subslide"
    }
   },
   "source": [
    "Para ler o conteúdo do arquivo por blocos, é possível indicar para o método **read** o número de bytes que se deseja ler:"
   ]
  },
  {
   "cell_type": "code",
   "execution_count": null,
   "metadata": {
    "ExecuteTime": {
     "end_time": "2019-06-27T18:06:19.864629Z",
     "start_time": "2019-06-27T18:06:19.853953Z"
    },
    "slideshow": {
     "slide_type": "fragment"
    }
   },
   "outputs": [],
   "source": [
    "f = open('dados/file1.txt', 'r')\n",
    "\n",
    "# Observe que a quebra de linha (\\n) também é contada\n",
    "conteudo = f.read(10)\n",
    "print(conteudo)\n",
    "\n",
    "f.close()"
   ]
  },
  {
   "cell_type": "markdown",
   "metadata": {
    "slideshow": {
     "slide_type": "subslide"
    }
   },
   "source": [
    "## 4.1. Lendo um arquivo linha a linha\n",
    "<hr style=\"border:1px solid #0077b9;\">\n",
    "\n",
    "É possível realizar a leitura linha a linha de um arquivo de texto em Python através do método  **readline()**:"
   ]
  },
  {
   "cell_type": "code",
   "execution_count": null,
   "metadata": {
    "ExecuteTime": {
     "end_time": "2019-06-27T18:06:25.797872Z",
     "start_time": "2019-06-27T18:06:25.786401Z"
    },
    "slideshow": {
     "slide_type": "fragment"
    }
   },
   "outputs": [],
   "source": [
    "f = open('dados/file1.txt', 'r')\n",
    "\n",
    "print(f.readline())\n",
    "print(f.readline())\n",
    "\n",
    "f.close()"
   ]
  },
  {
   "cell_type": "markdown",
   "metadata": {
    "slideshow": {
     "slide_type": "subslide"
    }
   },
   "source": [
    "A leitura linha a linha também pode ser feita iterando o `file object` em um *loop*: "
   ]
  },
  {
   "cell_type": "code",
   "execution_count": null,
   "metadata": {
    "ExecuteTime": {
     "end_time": "2019-06-27T18:06:27.808462Z",
     "start_time": "2019-06-27T18:06:27.804505Z"
    },
    "slideshow": {
     "slide_type": "fragment"
    }
   },
   "outputs": [],
   "source": [
    "f = open('dados/file1.txt', 'r')\n",
    "\n",
    "for line in f:\n",
    "    print(line)\n",
    "\n",
    "f.close()"
   ]
  },
  {
   "cell_type": "markdown",
   "metadata": {
    "slideshow": {
     "slide_type": "subslide"
    }
   },
   "source": [
    "É possível ler e armazenar todas as linhas de um arquivo em uma lista através da função **readlines()**:"
   ]
  },
  {
   "cell_type": "code",
   "execution_count": null,
   "metadata": {
    "ExecuteTime": {
     "end_time": "2019-06-27T18:06:35.141920Z",
     "start_time": "2019-06-27T18:06:35.127911Z"
    },
    "slideshow": {
     "slide_type": "fragment"
    }
   },
   "outputs": [],
   "source": [
    "f = open('dados/file1.txt', 'r')\n",
    "\n",
    "lines = f.readlines()\n",
    "\n",
    "print(type(lines))\n",
    "print(\"Total lines: {} \\n\".format(len(lines)))\n",
    "\n",
    "for line in lines:\n",
    "    print(line)\n",
    "\n",
    "f.close()"
   ]
  },
  {
   "cell_type": "markdown",
   "metadata": {
    "slideshow": {
     "slide_type": "slide"
    }
   },
   "source": [
    "# 5. Escrita em arquivos\n",
    "<hr style=\"border:1px solid #0077b9;\">\n",
    "\n",
    "O `file object` possui o método **write(string)** para a realizar a escrita de dados em um arquivo. Este método aceita uma *string* como argumento:"
   ]
  },
  {
   "cell_type": "code",
   "execution_count": null,
   "metadata": {
    "ExecuteTime": {
     "end_time": "2019-06-27T18:06:52.236691Z",
     "start_time": "2019-06-27T18:06:52.229431Z"
    },
    "slideshow": {
     "slide_type": "fragment"
    }
   },
   "outputs": [],
   "source": [
    "f = open('dados/file2.txt', 'w')\n",
    "\n",
    "f.write('Introduction to Data Science!!!')\n",
    "\n",
    "f.close() "
   ]
  },
  {
   "cell_type": "code",
   "execution_count": null,
   "metadata": {
    "ExecuteTime": {
     "end_time": "2019-06-27T18:06:53.253535Z",
     "start_time": "2019-06-27T18:06:52.845087Z"
    },
    "slideshow": {
     "slide_type": "fragment"
    }
   },
   "outputs": [],
   "source": [
    "f = open('dados/file2.txt', 'r')\n",
    "\n",
    "print(f.read())\n",
    "\n",
    "f.close() "
   ]
  },
  {
   "cell_type": "markdown",
   "metadata": {
    "slideshow": {
     "slide_type": "subslide"
    }
   },
   "source": [
    "Lembre-se de converter para string o conteúdo antes de escrever em arquivo:"
   ]
  },
  {
   "cell_type": "code",
   "execution_count": null,
   "metadata": {
    "ExecuteTime": {
     "end_time": "2019-06-27T18:07:02.263051Z",
     "start_time": "2019-06-27T18:07:02.258371Z"
    },
    "slideshow": {
     "slide_type": "fragment"
    }
   },
   "outputs": [],
   "source": [
    "value = ['my string', 42, 10+5j, 1./3.0]\n",
    "\n",
    "f = open('dados/file2.txt', 'a+')\n",
    "\n",
    "value = str(value)\n",
    "f.write(value)\n",
    "\n",
    "f.close()"
   ]
  },
  {
   "cell_type": "code",
   "execution_count": null,
   "metadata": {
    "ExecuteTime": {
     "end_time": "2019-06-27T18:07:03.253630Z",
     "start_time": "2019-06-27T18:07:03.249873Z"
    },
    "slideshow": {
     "slide_type": "fragment"
    }
   },
   "outputs": [],
   "source": [
    "f = open('dados/file2.txt', 'r')\n",
    "\n",
    "print(f.read())\n",
    "f.close()"
   ]
  },
  {
   "cell_type": "markdown",
   "metadata": {
    "slideshow": {
     "slide_type": "slide"
    }
   },
   "source": [
    "# 6. Movendo posição de leitura/escrita em arquivos\n",
    "<hr style=\"border:1px solid #0077b9;\">\n",
    "\n",
    "A função **seek(ofset, from_what)** pode ser usada para mudar a posição atual de leitura/escrita em um arquivo. A nova posição é calculada adicionando *offset** ao *from_what*. Os valores possível para *from_what* são:\n",
    " - **0**: início do arquivo;\n",
    " - **1**: posição atual\n",
    " - **2**: final do arquivo\n",
    " \n",
    " Obs: Em Python 3 somente é permitido o uso do modo **2** em arquivos abertos em modo binário (b)"
   ]
  },
  {
   "cell_type": "code",
   "execution_count": null,
   "metadata": {
    "ExecuteTime": {
     "end_time": "2019-06-27T18:07:07.700939Z",
     "start_time": "2019-06-27T18:07:07.697382Z"
    },
    "slideshow": {
     "slide_type": "fragment"
    }
   },
   "outputs": [],
   "source": [
    "f = open('dados/file3.txt', 'rb+')\n",
    "\n",
    "f.write(b'Introduction to Data Science')\n",
    "\n",
    "f.seek(16,0)      # move 16 bytes a partir do inicio \n",
    "\n",
    "print(f.read())"
   ]
  },
  {
   "cell_type": "code",
   "execution_count": null,
   "metadata": {
    "ExecuteTime": {
     "end_time": "2019-06-27T18:07:08.209559Z",
     "start_time": "2019-06-27T18:07:08.200724Z"
    },
    "scrolled": true,
    "slideshow": {
     "slide_type": "fragment"
    }
   },
   "outputs": [],
   "source": [
    "f.seek(-7, 2)  # volta 7 bytes a partir do final do arquivo\n",
    "print(f.read())\n",
    "\n",
    "f.close()"
   ]
  },
  {
   "cell_type": "markdown",
   "metadata": {
    "slideshow": {
     "slide_type": "subslide"
    }
   },
   "source": [
    "Alterando parte do arquivo:"
   ]
  },
  {
   "cell_type": "code",
   "execution_count": null,
   "metadata": {
    "ExecuteTime": {
     "end_time": "2019-06-27T18:07:37.414452Z",
     "start_time": "2019-06-27T18:07:37.401749Z"
    },
    "slideshow": {
     "slide_type": "fragment"
    }
   },
   "outputs": [],
   "source": [
    "f = open('dados/file3.txt', 'rb+')\n",
    "\n",
    "f.seek(-7, 2)  # volta 12 bytes a partir do final do arquivo\n",
    "f.write(b'Mining')\n",
    "\n",
    "#f.truncate(27)\n",
    "\n",
    "f.seek(0,0)\n",
    "print(f.read())"
   ]
  },
  {
   "cell_type": "markdown",
   "metadata": {
    "slideshow": {
     "slide_type": "slide"
    }
   },
   "source": [
    "# 7. Uso do *with*\n",
    "<hr style=\"border:1px solid #0077b9;\">\n",
    "\n",
    "O **with** é usado para garantir finalização de recursos adquiridos. Ao usar em conjunto com a abertura de um arquivo é garantido que ao final do bloco *with* o `file object` é encerado e, consequentemente, o arquivo é fechado automaticamente pelo Python.\n",
    "\n",
    "Ele pode ser usado da seguinte forma com na manipulação de arquivos:"
   ]
  },
  {
   "cell_type": "code",
   "execution_count": null,
   "metadata": {
    "slideshow": {
     "slide_type": "fragment"
    }
   },
   "outputs": [],
   "source": [
    "with open(\"dados/file1.txt\") as file:\n",
    "    for line in file:\n",
    "        print(line)"
   ]
  },
  {
   "cell_type": "markdown",
   "metadata": {
    "slideshow": {
     "slide_type": "fragment"
    }
   },
   "source": [
    "OBS: Com o uso do **with** não é necessário usar a função **close()**"
   ]
  },
  {
   "cell_type": "markdown",
   "metadata": {
    "slideshow": {
     "slide_type": "slide"
    }
   },
   "source": [
    "# 8. Manipulação de arquivos CSV\n",
    "<hr style=\"border:1px solid #0077b9;\">\n",
    "\n",
    "O módulo que implementa classes para a leitura e escrita de dados em formato CSV em Python é o **csv**. Mais informações sobre esse módulo podem sem encontradas [aqui](https://docs.python.org/3/library/csv.html).\n",
    "\n",
    "Para usar o módulo **csv**, importe-o da seguinte forma:"
   ]
  },
  {
   "cell_type": "code",
   "execution_count": null,
   "metadata": {
    "ExecuteTime": {
     "end_time": "2019-06-27T18:08:21.125451Z",
     "start_time": "2019-06-27T18:08:21.115149Z"
    },
    "slideshow": {
     "slide_type": "fragment"
    }
   },
   "outputs": [],
   "source": [
    "import csv"
   ]
  },
  {
   "cell_type": "markdown",
   "metadata": {
    "slideshow": {
     "slide_type": "subslide"
    }
   },
   "source": [
    "## 8.1. Lendo um CSV\n",
    "<hr style=\"border:1px solid #0077b9;\">\n",
    "\n",
    "O módulo **csv** fornece o método **reader(file)** para a leitura dos dados. De maneira simples, pode ser usada da seguinte forma:"
   ]
  },
  {
   "cell_type": "code",
   "execution_count": null,
   "metadata": {
    "ExecuteTime": {
     "end_time": "2019-06-27T18:08:21.970367Z",
     "start_time": "2019-06-27T18:08:21.960831Z"
    },
    "slideshow": {
     "slide_type": "fragment"
    }
   },
   "outputs": [],
   "source": [
    "with open('dados/simple.csv', 'r') as fcsv:\n",
    "    csvreader = csv.reader(fcsv)\n",
    "    for row in csvreader:\n",
    "        print(row)"
   ]
  },
  {
   "cell_type": "markdown",
   "metadata": {
    "slideshow": {
     "slide_type": "subslide"
    }
   },
   "source": [
    "Diversas opções estão disponíveis no método reader(), entre elas a possibilidade de especificar o delimitador utilizado no arquivo csv:"
   ]
  },
  {
   "cell_type": "code",
   "execution_count": null,
   "metadata": {
    "ExecuteTime": {
     "end_time": "2019-06-27T18:08:29.952561Z",
     "start_time": "2019-06-27T18:08:29.949008Z"
    },
    "slideshow": {
     "slide_type": "fragment"
    }
   },
   "outputs": [],
   "source": [
    "with open('dados/simple_ponto_virgula.csv', 'r') as fcsv:\n",
    "    csvreader = csv.reader(fcsv, delimiter=';')\n",
    "    for row in csvreader:\n",
    "        print(row)"
   ]
  },
  {
   "cell_type": "markdown",
   "metadata": {
    "slideshow": {
     "slide_type": "subslide"
    }
   },
   "source": [
    "## 8.2. Lendo um CSV\n",
    "<hr style=\"border:1px solid #0077b9;\">\n",
    "\n",
    "O módulo **csv** fornece o método **writer(file)** para a escrita de dados em um arquivo csv. De maneira simples, pode ser usada da seguinte forma:"
   ]
  },
  {
   "cell_type": "code",
   "execution_count": null,
   "metadata": {
    "ExecuteTime": {
     "end_time": "2019-06-27T18:08:39.450129Z",
     "start_time": "2019-06-27T18:08:39.446024Z"
    },
    "slideshow": {
     "slide_type": "fragment"
    }
   },
   "outputs": [],
   "source": [
    "with open('dados/simple2.csv', 'w') as fcsv:\n",
    "    csvwriter = csv.writer(fcsv)\n",
    "    dados = ['4','Jones','44']\n",
    "    csvwriter.writerow(dados)"
   ]
  },
  {
   "cell_type": "markdown",
   "metadata": {
    "slideshow": {
     "slide_type": "subslide"
    }
   },
   "source": [
    "## 8.2. Acessando arquivo CSV através de estrutura de dicionário\n",
    "<hr style=\"border:1px solid #0077b9;\">\n",
    "\n",
    "O módulo csv fornece o método **DictReader** para a realização de leitura dos dados em um dicionário de dados:"
   ]
  },
  {
   "cell_type": "code",
   "execution_count": null,
   "metadata": {
    "ExecuteTime": {
     "end_time": "2019-06-27T18:09:38.039815Z",
     "start_time": "2019-06-27T18:09:38.026185Z"
    },
    "slideshow": {
     "slide_type": "fragment"
    }
   },
   "outputs": [],
   "source": [
    "with open('dados/simple.csv','r') as fcsv:\n",
    "    csvreader = csv.DictReader(fcsv)\n",
    "\n",
    "    for row in csvreader:\n",
    "        print(\"#{}: {}, {} anos\".format(row['ID'], row['Name'], row['Age']))"
   ]
  },
  {
   "cell_type": "markdown",
   "metadata": {
    "slideshow": {
     "slide_type": "subslide"
    }
   },
   "source": [
    "A criação de um CSV a partir de um dicionário pode é feita através do método **DictWriter**:"
   ]
  },
  {
   "cell_type": "code",
   "execution_count": null,
   "metadata": {
    "ExecuteTime": {
     "end_time": "2019-06-27T18:09:50.370870Z",
     "start_time": "2019-06-27T18:09:50.364832Z"
    },
    "slideshow": {
     "slide_type": "fragment"
    }
   },
   "outputs": [],
   "source": [
    "fields= ['ID','Age','Name']\n",
    "users = [\n",
    "            {'Age': '11', 'ID': '1', 'Name': 'Smith'},\n",
    "            {'Age': '22', 'ID': '2', 'Name': 'Johnson'},\n",
    "            {'Age': '33', 'ID': '3', 'Name': 'Williams'}\n",
    "        ]\n",
    "\n",
    "with open('dados/simple3.csv','w') as fcsv:\n",
    "    csvwriter = csv.DictWriter(fcsv, fieldnames=fields)\n",
    "\n",
    "    csvwriter.writeheader()\n",
    "    for user in users:\n",
    "        csvwriter.writerow(user)"
   ]
  },
  {
   "cell_type": "markdown",
   "metadata": {
    "slideshow": {
     "slide_type": "subslide"
    }
   },
   "source": [
    "Lendo o CSV recém criado:"
   ]
  },
  {
   "cell_type": "code",
   "execution_count": null,
   "metadata": {
    "ExecuteTime": {
     "end_time": "2019-06-27T18:10:14.628089Z",
     "start_time": "2019-06-27T18:10:14.621404Z"
    },
    "slideshow": {
     "slide_type": "fragment"
    }
   },
   "outputs": [],
   "source": [
    "with open('dados/simple3.csv','r') as fcsv:\n",
    "    csvreader = csv.DictReader(fcsv)\n",
    "    for row in csvreader:\n",
    "        print(\"#{}: {}, {} anos\".format(row['ID'], row['Name'], row['Age']))"
   ]
  },
  {
   "cell_type": "markdown",
   "metadata": {
    "slideshow": {
     "slide_type": "slide"
    }
   },
   "source": [
    "# 9. Lendo os dados do exercício de CAP394\n",
    "<hr style=\"border:1px solid #0077b9;\">\n",
    "\n",
    "Lendo o conjunto de dados do primeiro exercício da disciplina CAP394 - Introduction to Data Science"
   ]
  },
  {
   "cell_type": "code",
   "execution_count": null,
   "metadata": {
    "ExecuteTime": {
     "end_time": "2019-06-27T18:10:25.111548Z",
     "start_time": "2019-06-27T18:10:25.081702Z"
    },
    "slideshow": {
     "slide_type": "fragment"
    }
   },
   "outputs": [],
   "source": [
    "records = []\n",
    "with open('dados/defpatterns.missing.csv','r') as fcsv:\n",
    "    csvreader = csv.DictReader(fcsv)\n",
    "\n",
    "    for row in csvreader:\n",
    "        records.append(row)"
   ]
  },
  {
   "cell_type": "markdown",
   "metadata": {
    "slideshow": {
     "slide_type": "subslide"
    }
   },
   "source": [
    "Listando as colunas:"
   ]
  },
  {
   "cell_type": "code",
   "execution_count": null,
   "metadata": {
    "ExecuteTime": {
     "end_time": "2019-06-27T18:10:28.464847Z",
     "start_time": "2019-06-27T18:10:28.456640Z"
    },
    "slideshow": {
     "slide_type": "fragment"
    }
   },
   "outputs": [],
   "source": [
    "for col in records[0]:\n",
    "    print(col)"
   ]
  },
  {
   "cell_type": "markdown",
   "metadata": {
    "slideshow": {
     "slide_type": "subslide"
    }
   },
   "source": [
    "Apresentando as três primeiras linhas:"
   ]
  },
  {
   "cell_type": "code",
   "execution_count": null,
   "metadata": {
    "ExecuteTime": {
     "end_time": "2019-06-27T18:10:42.982583Z",
     "start_time": "2019-06-27T18:10:42.958831Z"
    },
    "slideshow": {
     "slide_type": "fragment"
    }
   },
   "outputs": [],
   "source": [
    "for index, record in zip(range(3),records):\n",
    "    print(\"#{}\".format(index))\n",
    "    for key in record:\n",
    "        print(\"{: <12}: {}\".format(key, record[key]))\n",
    "    print()"
   ]
  }
 ],
 "metadata": {
  "celltoolbar": "Slideshow",
  "kernelspec": {
   "display_name": "Python 3",
   "language": "python",
   "name": "python3"
  },
  "language_info": {
   "codemirror_mode": {
    "name": "ipython",
    "version": 3
   },
   "file_extension": ".py",
   "mimetype": "text/x-python",
   "name": "python",
   "nbconvert_exporter": "python",
   "pygments_lexer": "ipython3",
   "version": "3.7.3"
  },
  "varInspector": {
   "cols": {
    "lenName": 16,
    "lenType": 16,
    "lenVar": 40
   },
   "kernels_config": {
    "python": {
     "delete_cmd_postfix": "",
     "delete_cmd_prefix": "del ",
     "library": "var_list.py",
     "varRefreshCmd": "print(var_dic_list())"
    },
    "r": {
     "delete_cmd_postfix": ") ",
     "delete_cmd_prefix": "rm(",
     "library": "var_list.r",
     "varRefreshCmd": "cat(var_dic_list()) "
    }
   },
   "types_to_exclude": [
    "module",
    "function",
    "builtin_function_or_method",
    "instance",
    "_Feature"
   ],
   "window_display": false
  }
 },
 "nbformat": 4,
 "nbformat_minor": 2
}
