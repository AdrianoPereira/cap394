{
 "cells": [
  {
   "cell_type": "markdown",
   "metadata": {
    "slideshow": {
     "slide_type": "slide"
    }
   },
   "source": [
    "# <span style=\"color:#336699\">CAP394 - Introduction to Data Science [<img src=\"./img/logo.png\" alt=\"CAP394 - Introduction to Data Science\" style=\"height: 35px;\" align=\"right\">](http://www.lac.inpe.br/~rafael.santos/cap394.html)</span>\n",
    "<hr style=\"border:2px solid #0077b9;\">\n",
    "\n",
    "# <span style=\"color:#336699\">Expressões Regulares</span>\n",
    "\n",
    "\n",
    "[<img src=\"https://upload.wikimedia.org/wikipedia/commons/1/1c/Kleene.jpg\" alt=\"Stephen Cole Kleene\" style=\"height: 175px;\" align=\"right\">](https://en.wikipedia.org/wiki/Regular_expression)\n",
    "\n",
    "Professores:\n",
    "- Rafael Santos\n",
    "- Gilberto Ribeiro de Queiroz\n",
    "\n",
    "Colaborador:\n",
    "- Vitor Gomes"
   ]
  },
  {
   "cell_type": "markdown",
   "metadata": {
    "slideshow": {
     "slide_type": "slide"
    }
   },
   "source": [
    "# Introdução\n",
    "<hr style=\"border:1px solid #0077b9;\">\n",
    "\n",
    "Uma expressão regular (regex) provê uma forma concisa e flexível de identificar cadeias de caracteres de interesse, como caracteres particulares, palavras ou padrões de caracteres. O termo deriva do trabalho do matemático norte-americano Stephen Cole Kleene (foto). Expressões regulares são escritas numa linguagem formal que pode ser interpretada por um processador de expressão.\n",
    "\n",
    "Fontes: https://docs.python.org/3.7/library/re.html, http://wiki.portugal-a-programar.pt/dev_geral:python:regex, https://en.wikipedia.org/wiki/Regular_expression\n",
    "\n",
    "Para Python está disponível o módulo `re` para o processamento de expressões regulares. Esse módulo é importado da seguinte forma:"
   ]
  },
  {
   "cell_type": "code",
   "execution_count": null,
   "metadata": {
    "ExecuteTime": {
     "end_time": "2019-06-27T19:37:35.821422Z",
     "start_time": "2019-06-27T19:37:35.815764Z"
    },
    "slideshow": {
     "slide_type": "fragment"
    }
   },
   "outputs": [],
   "source": [
    "import re"
   ]
  },
  {
   "cell_type": "markdown",
   "metadata": {
    "slideshow": {
     "slide_type": "slide"
    }
   },
   "source": [
    "# 2. Busca simples por uma string\n",
    "<hr style=\"border:1px solid #0077b9;\">\n",
    "\n",
    "O método **re.search** verifica se uma string (ou padrão) existe em outra string.O uso básico é feito da seguinte forma:"
   ]
  },
  {
   "cell_type": "code",
   "execution_count": null,
   "metadata": {
    "ExecuteTime": {
     "end_time": "2019-06-27T19:37:36.223239Z",
     "start_time": "2019-06-27T19:37:35.826797Z"
    },
    "slideshow": {
     "slide_type": "fragment"
    }
   },
   "outputs": [],
   "source": [
    "texto = 'Introduction to Data Science'\n",
    "match = re.search('Data', texto)\n",
    "if match:\n",
    "    print('Achou !')\n",
    "else:\n",
    "    print('Não Achou !')\n",
    "\n",
    "print(\"Objeto: \", match)"
   ]
  },
  {
   "cell_type": "markdown",
   "metadata": {
    "slideshow": {
     "slide_type": "subslide"
    }
   },
   "source": [
    "O **MatchObject** possui métodos para acessar informações sobre a ocorrência encontrada:"
   ]
  },
  {
   "cell_type": "code",
   "execution_count": null,
   "metadata": {
    "ExecuteTime": {
     "end_time": "2019-06-27T19:37:37.091700Z",
     "start_time": "2019-06-27T19:37:36.229313Z"
    },
    "slideshow": {
     "slide_type": "fragment"
    }
   },
   "outputs": [],
   "source": [
    "texto = 'Introduction to Data Science'\n",
    "match = re.search('Data', texto)\n",
    "if match:\n",
    "    print(\"Achou: '{}', '{}', {}-{}\".format(match.string, match.re, match.start(), match.end()))"
   ]
  },
  {
   "cell_type": "markdown",
   "metadata": {
    "slideshow": {
     "slide_type": "subslide"
    }
   },
   "source": [
    "Recomenda-se o uso do **compile** quando o padrão for usado várias vezes:"
   ]
  },
  {
   "cell_type": "code",
   "execution_count": null,
   "metadata": {
    "ExecuteTime": {
     "end_time": "2019-06-27T19:37:37.159455Z",
     "start_time": "2019-06-27T19:37:37.098034Z"
    },
    "slideshow": {
     "slide_type": "fragment"
    }
   },
   "outputs": [],
   "source": [
    "palavras = [\"Introduction\", \"to\", \"Data\", \"Science\"]\n",
    "padrao = re.compile('Data')\n",
    "\n",
    "for palavra in palavras:\n",
    "    match = re.search(padrao, palavra)\n",
    "    if match:\n",
    "        print(\"Achei: {}\".format(palavra))"
   ]
  },
  {
   "cell_type": "markdown",
   "metadata": {
    "slideshow": {
     "slide_type": "slide"
    }
   },
   "source": [
    "# 2.1. Exemplo de busca em um arquivo CSV\n",
    "<hr style=\"border:1px solid #0077b9;\">"
   ]
  },
  {
   "cell_type": "markdown",
   "metadata": {
    "slideshow": {
     "slide_type": "fragment"
    }
   },
   "source": [
    "Lendo o arquivo de padrões:"
   ]
  },
  {
   "cell_type": "code",
   "execution_count": null,
   "metadata": {
    "ExecuteTime": {
     "end_time": "2019-06-27T19:37:37.262155Z",
     "start_time": "2019-06-27T19:37:37.165206Z"
    },
    "slideshow": {
     "slide_type": "fragment"
    }
   },
   "outputs": [],
   "source": [
    "import csv\n",
    "records = []\n",
    "with open('dados/defpatterns.missing.csv','r') as fcsv:\n",
    "    csvreader = csv.DictReader(fcsv)\n",
    "\n",
    "    for row in csvreader:\n",
    "        records.append(row)"
   ]
  },
  {
   "cell_type": "markdown",
   "metadata": {
    "slideshow": {
     "slide_type": "fragment"
    }
   },
   "source": [
    "Procurando pela palavra 'floresta' na coluna 'padrao':"
   ]
  },
  {
   "cell_type": "code",
   "execution_count": null,
   "metadata": {
    "ExecuteTime": {
     "end_time": "2019-06-27T19:37:37.338056Z",
     "start_time": "2019-06-27T19:37:37.263858Z"
    },
    "slideshow": {
     "slide_type": "fragment"
    }
   },
   "outputs": [],
   "source": [
    "padrao = re.compile('floresta')\n",
    "floresta = []\n",
    "for record in records:\n",
    "    if re.search(padrao, record['padrao']):\n",
    "        floresta.append(record)\n",
    "print(\"Encontrei {} registros de floresta\".format(len(floresta)))"
   ]
  },
  {
   "cell_type": "markdown",
   "metadata": {
    "slideshow": {
     "slide_type": "slide"
    }
   },
   "source": [
    "# 2.2. Uso de operadores especiais na busca por caracteres\n",
    "<hr style=\"border:1px solid #0077b9;\">"
   ]
  },
  {
   "cell_type": "markdown",
   "metadata": {
    "slideshow": {
     "slide_type": "fragment"
    }
   },
   "source": [
    "Os **[ ]** servem para indicar alternativas. Por exemplo [ae] procura por **a** ou **e**:"
   ]
  },
  {
   "cell_type": "code",
   "execution_count": null,
   "metadata": {
    "ExecuteTime": {
     "end_time": "2019-06-27T19:37:37.406559Z",
     "start_time": "2019-06-27T19:37:37.344715Z"
    },
    "slideshow": {
     "slide_type": "fragment"
    }
   },
   "outputs": [],
   "source": [
    "palavras = [\"Introduction\", \"Data\", \"Science\"]\n",
    "pattern = re.compile(\"[ae]\")\n",
    "\n",
    "for palavra in palavras:\n",
    "    match = re.search(pattern, palavra)\n",
    "    if match:\n",
    "        print(palavra)\n",
    "    "
   ]
  },
  {
   "cell_type": "markdown",
   "metadata": {
    "slideshow": {
     "slide_type": "subslide"
    }
   },
   "source": [
    "**Como saber qual letra foi encontrada em cada ocorrência?**"
   ]
  },
  {
   "cell_type": "markdown",
   "metadata": {
    "slideshow": {
     "slide_type": "fragment"
    }
   },
   "source": [
    "É possível usar **( )** para definir **groups** de busca:"
   ]
  },
  {
   "cell_type": "code",
   "execution_count": null,
   "metadata": {
    "ExecuteTime": {
     "end_time": "2019-06-27T19:37:37.475149Z",
     "start_time": "2019-06-27T19:37:37.408276Z"
    },
    "slideshow": {
     "slide_type": "fragment"
    }
   },
   "outputs": [],
   "source": [
    "pattern = re.compile(\"([ae])\")\n",
    "palavras = [\"Introduction\", \"Data\", \"Science\"]\n",
    "\n",
    "for palavra in palavras:\n",
    "    match = re.search(pattern, palavra)\n",
    "    if match:\n",
    "        print(\"{}: {}-{}, {}\".format(palavra, match.start(), match.end(), match.groups()))"
   ]
  },
  {
   "cell_type": "markdown",
   "metadata": {
    "slideshow": {
     "slide_type": "subslide"
    }
   },
   "source": [
    "Mas o **search** somente mostra a primeira ocorrência. Para encontrar todas, é possível usar o **re.findall()**:"
   ]
  },
  {
   "cell_type": "code",
   "execution_count": null,
   "metadata": {
    "ExecuteTime": {
     "end_time": "2019-06-27T19:37:37.545245Z",
     "start_time": "2019-06-27T19:37:37.477534Z"
    },
    "slideshow": {
     "slide_type": "fragment"
    }
   },
   "outputs": [],
   "source": [
    "pattern = re.compile(\"([aet])\")\n",
    "palavras = [\"Introduction\", \"Data\", \"Science\"]\n",
    "\n",
    "for palavra in palavras:\n",
    "    ocorrencias = re.findall(pattern, palavra)\n",
    "    if len(ocorrencias):\n",
    "        print(palavra, ocorrencias)"
   ]
  },
  {
   "cell_type": "markdown",
   "metadata": {
    "slideshow": {
     "slide_type": "subslide"
    }
   },
   "source": [
    "O **re.findall()** retorna um `list` com as ocorrências. Para obter todas as ocorrências através de objetos **MatchObject**, use **re.finditer**."
   ]
  },
  {
   "cell_type": "code",
   "execution_count": null,
   "metadata": {
    "ExecuteTime": {
     "end_time": "2019-06-27T19:37:37.607644Z",
     "start_time": "2019-06-27T19:37:37.551971Z"
    },
    "slideshow": {
     "slide_type": "fragment"
    }
   },
   "outputs": [],
   "source": [
    "pattern = re.compile(\"([aet])\")\n",
    "palavras = [\"Introduction\", \"Data\", \"Science\"]\n",
    "\n",
    "for palavra in palavras:\n",
    "    ocorrencias = re.finditer(pattern, palavra)\n",
    "    for ocorrencia in ocorrencias:\n",
    "        print(\"{}: {}, {}-{}\".format(palavra, ocorrencia.group(), ocorrencia.start(), ocorrencia.end()))"
   ]
  },
  {
   "cell_type": "markdown",
   "metadata": {
    "slideshow": {
     "slide_type": "subslide"
    }
   },
   "source": [
    "**Para buscar uma faixa de caracteres**:"
   ]
  },
  {
   "cell_type": "code",
   "execution_count": null,
   "metadata": {
    "ExecuteTime": {
     "end_time": "2019-06-27T19:37:37.675670Z",
     "start_time": "2019-06-27T19:37:37.608921Z"
    },
    "slideshow": {
     "slide_type": "fragment"
    }
   },
   "outputs": [],
   "source": [
    "pattern = re.compile(\"([a-d])\")\n",
    "palavras = [\"Introduction\", \"Data\", \"Science\"]\n",
    "\n",
    "for palavra in palavras:\n",
    "    ocorrencias = re.finditer(pattern, palavra)\n",
    "    for ocorrencia in ocorrencias:\n",
    "        print(\"{}: {}, {}-{}\".format(palavra, ocorrencia.group(), ocorrencia.start(), ocorrencia.end()))"
   ]
  },
  {
   "cell_type": "markdown",
   "metadata": {
    "slideshow": {
     "slide_type": "subslide"
    }
   },
   "source": [
    "**E se eu quiser encontrar uma sequência de caracteres específica?**"
   ]
  },
  {
   "cell_type": "code",
   "execution_count": null,
   "metadata": {
    "ExecuteTime": {
     "end_time": "2019-06-27T19:37:37.743729Z",
     "start_time": "2019-06-27T19:37:37.678217Z"
    },
    "slideshow": {
     "slide_type": "fragment"
    }
   },
   "outputs": [],
   "source": [
    "pattern = re.compile(\"(c[it])\") # um c seguido por um i ou um t\n",
    "palavras = [\"Introduction\", \"Data\", \"Science\"]\n",
    "\n",
    "for palavra in palavras:\n",
    "    ocorrencias = re.finditer(pattern, palavra)\n",
    "    for ocorrencia in ocorrencias:\n",
    "        print(\"{}: {}, {}-{}\".format(palavra, ocorrencia.group(), ocorrencia.start(), ocorrencia.end()))"
   ]
  },
  {
   "cell_type": "markdown",
   "metadata": {
    "slideshow": {
     "slide_type": "subslide"
    }
   },
   "source": [
    "**E para buscar sequência qualquer de 3 caracteres iniciadas por c?**"
   ]
  },
  {
   "cell_type": "code",
   "execution_count": null,
   "metadata": {
    "ExecuteTime": {
     "end_time": "2019-06-27T19:37:37.825898Z",
     "start_time": "2019-06-27T19:37:37.747852Z"
    },
    "slideshow": {
     "slide_type": "fragment"
    }
   },
   "outputs": [],
   "source": [
    "pattern = re.compile(\"(c[a-z]{2})\") # um c seguido por duas letras entre a e z\n",
    "palavras = [\"Introduction\", \"Data\", \"Science\"]\n",
    "\n",
    "for palavra in palavras:\n",
    "    ocorrencias = re.finditer(pattern, palavra)\n",
    "    for ocorrencia in ocorrencias:\n",
    "        print(\"{}: {}, {}-{}\".format(palavra, ocorrencia.group(), ocorrencia.start(), ocorrencia.end()))"
   ]
  },
  {
   "cell_type": "markdown",
   "metadata": {
    "slideshow": {
     "slide_type": "subslide"
    }
   },
   "source": [
    "**Para buscar uma sequencia iniciada em c e não sequida por um i?**"
   ]
  },
  {
   "cell_type": "code",
   "execution_count": null,
   "metadata": {
    "ExecuteTime": {
     "end_time": "2019-06-27T19:39:00.091910Z",
     "start_time": "2019-06-27T19:39:00.077354Z"
    },
    "slideshow": {
     "slide_type": "fragment"
    }
   },
   "outputs": [],
   "source": [
    "pattern = re.compile(\"(c[^i])\") # um c não seguido por um i\n",
    "palavras = [\"Introduction\", \"Data\", \"Science\"]\n",
    "\n",
    "for palavra in palavras:\n",
    "    ocorrencias = re.finditer(pattern, palavra)\n",
    "    for ocorrencia in ocorrencias:\n",
    "        print(\"{}: {}, {}-{}\".format(palavra, ocorrencia.group(), ocorrencia.start(), ocorrencia.end()))"
   ]
  },
  {
   "cell_type": "markdown",
   "metadata": {
    "slideshow": {
     "slide_type": "subslide"
    }
   },
   "source": [
    "Existem alguns atalhos para facilitar a busca por tipos de caracteres ou sequências específicas:\n",
    "- **\\d**: um dígito. Equivale a [0-9]\n",
    "- **\\D**: um não dígito. Equivale a [^0-9]\n",
    "- **\\s**: um espaço. Equivale a [ \\t\\n\\r\\f\\v]\n",
    "- **\\S**: um não espaço. Equivale a [^ \\t\\n\\r\\f\\v]\n",
    "- **\\w**: um caracter. Equivale a [a-zA-Z0-9_]\n",
    "- **\\W**: um não caracter. Equivale a [^a-zA-Z0-9_]\n",
    "- **^**: começo de linha\n",
    "- **$**: final de linha\n",
    "- **{[x],y}**: indica o número mínimo (x) e/ou máximo de caracteres. O mínimo é opcional\n",
    "- **+**: um ou mais caracteres\n",
    "- **\\***: nenhum ou muitos caracteres\n",
    "- **?**: opcional\n",
    "- **.**: qualquer caracter\n",
    "- **|**: ou"
   ]
  },
  {
   "cell_type": "markdown",
   "metadata": {
    "slideshow": {
     "slide_type": "subslide"
    }
   },
   "source": [
    "Alguns exemplos usando esses atalhos:"
   ]
  },
  {
   "cell_type": "code",
   "execution_count": null,
   "metadata": {
    "ExecuteTime": {
     "end_time": "2019-06-27T19:40:12.477169Z",
     "start_time": "2019-06-27T19:40:12.472901Z"
    },
    "slideshow": {
     "slide_type": "fragment"
    }
   },
   "outputs": [],
   "source": [
    "textos = [\"Introduction to Data Science\", \"CAP 394\",\"CAP 394 - Data Science\",  \"Introduction to Data Mining\", \"Introduction to Data \" ]\n",
    "display(textos)"
   ]
  },
  {
   "cell_type": "markdown",
   "metadata": {
    "slideshow": {
     "slide_type": "fragment"
    }
   },
   "source": [
    "Procurar por sequencias do tipo: \"**Data ALGO**\""
   ]
  },
  {
   "cell_type": "code",
   "execution_count": null,
   "metadata": {
    "ExecuteTime": {
     "end_time": "2019-06-27T19:41:06.033464Z",
     "start_time": "2019-06-27T19:41:06.013984Z"
    },
    "slideshow": {
     "slide_type": "fragment"
    }
   },
   "outputs": [],
   "source": [
    "pattern = re.compile(\"(Data[\\s][\\w]*)\")  # ver diferenca entre + e *\n",
    "\n",
    "for texto in textos:\n",
    "    ocorrencias = re.finditer(pattern, texto)\n",
    "    for ocorrencia in ocorrencias:\n",
    "        print(texto)\n",
    "        print(\"\\t{}, {}-{}\".format(ocorrencia.group(), ocorrencia.start(), ocorrencia.end()))"
   ]
  },
  {
   "cell_type": "markdown",
   "metadata": {
    "slideshow": {
     "slide_type": "subslide"
    }
   },
   "source": [
    "Procurar grupos que possuam números:"
   ]
  },
  {
   "cell_type": "code",
   "execution_count": null,
   "metadata": {
    "ExecuteTime": {
     "end_time": "2019-06-27T19:41:35.959163Z",
     "start_time": "2019-06-27T19:41:35.952498Z"
    },
    "slideshow": {
     "slide_type": "fragment"
    }
   },
   "outputs": [],
   "source": [
    "pattern = re.compile(\"([\\d]+)\") \n",
    "\n",
    "for texto in textos:\n",
    "    ocorrencias = re.finditer(pattern, texto)\n",
    "    for ocorrencia in ocorrencias:\n",
    "        print(texto)\n",
    "        print(\"\\t{}, {}-{}\".format(ocorrencia.group(), ocorrencia.start(), ocorrencia.end()))"
   ]
  },
  {
   "cell_type": "markdown",
   "metadata": {
    "slideshow": {
     "slide_type": "subslide"
    }
   },
   "source": [
    "Comecem com **Intro**:"
   ]
  },
  {
   "cell_type": "code",
   "execution_count": null,
   "metadata": {
    "ExecuteTime": {
     "end_time": "2019-06-27T19:41:48.765053Z",
     "start_time": "2019-06-27T19:41:48.750602Z"
    },
    "slideshow": {
     "slide_type": "fragment"
    }
   },
   "outputs": [],
   "source": [
    "pattern = re.compile(\"^(Intro)\")  # ver diferenca com *\n",
    "\n",
    "for texto in textos:\n",
    "    ocorrencias = re.finditer(pattern, texto)\n",
    "    for ocorrencia in ocorrencias:\n",
    "        print(texto)\n",
    "        print(\"\\t{}, {}-{}\".format(ocorrencia.group(), ocorrencia.start(), ocorrencia.end()))"
   ]
  },
  {
   "cell_type": "markdown",
   "metadata": {
    "slideshow": {
     "slide_type": "subslide"
    }
   },
   "source": [
    "Quebrar uma frase em palavras:"
   ]
  },
  {
   "cell_type": "code",
   "execution_count": null,
   "metadata": {
    "ExecuteTime": {
     "end_time": "2019-06-27T19:41:56.074214Z",
     "start_time": "2019-06-27T19:41:56.070639Z"
    },
    "slideshow": {
     "slide_type": "fragment"
    }
   },
   "outputs": [],
   "source": [
    "pattern = re.compile(\"([\\w]+\\s)|([\\w]+$)\")\n",
    "ocorrencias = re.finditer(pattern, 'Introduction to Data Science')\n",
    "for ocorrencia in ocorrencias:\n",
    "    print(texto)\n",
    "    print(\"\\t{}, {}-{}\".format(ocorrencia.group(), ocorrencia.start(), ocorrencia.end()))"
   ]
  },
  {
   "cell_type": "markdown",
   "metadata": {
    "slideshow": {
     "slide_type": "slide"
    }
   },
   "source": [
    "# Regex online\n",
    "<hr style=\"border:1px solid #0077b9;\">\n",
    "\n",
    "Este [site](https://regex101.com) permite testar expressões regulares com visualização."
   ]
  }
 ],
 "metadata": {
  "celltoolbar": "Slideshow",
  "kernelspec": {
   "display_name": "Python (geospatial)",
   "language": "python",
   "name": "geospatial"
  },
  "language_info": {
   "codemirror_mode": {
    "name": "ipython",
    "version": 3
   },
   "file_extension": ".py",
   "mimetype": "text/x-python",
   "name": "python",
   "nbconvert_exporter": "python",
   "pygments_lexer": "ipython3",
   "version": "3.7.3"
  },
  "varInspector": {
   "cols": {
    "lenName": 16,
    "lenType": 16,
    "lenVar": 40
   },
   "kernels_config": {
    "python": {
     "delete_cmd_postfix": "",
     "delete_cmd_prefix": "del ",
     "library": "var_list.py",
     "varRefreshCmd": "print(var_dic_list())"
    },
    "r": {
     "delete_cmd_postfix": ") ",
     "delete_cmd_prefix": "rm(",
     "library": "var_list.r",
     "varRefreshCmd": "cat(var_dic_list()) "
    }
   },
   "types_to_exclude": [
    "module",
    "function",
    "builtin_function_or_method",
    "instance",
    "_Feature"
   ],
   "window_display": false
  }
 },
 "nbformat": 4,
 "nbformat_minor": 2
}
